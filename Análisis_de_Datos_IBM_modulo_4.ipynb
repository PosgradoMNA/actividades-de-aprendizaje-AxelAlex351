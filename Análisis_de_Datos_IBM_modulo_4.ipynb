{
  "nbformat": 4,
  "nbformat_minor": 0,
  "metadata": {
    "colab": {
      "provenance": []
    },
    "kernelspec": {
      "name": "python3",
      "display_name": "Python 3"
    },
    "language_info": {
      "name": "python"
    }
  },
  "cells": [
    {
      "cell_type": "markdown",
      "source": [
        "# Axel Alejandro Tlatoa Villavicencio - A01363351\n",
        "# Ciencia y analítica de datos"
      ],
      "metadata": {
        "id": "2q2UJeK7uCtv"
      }
    },
    {
      "cell_type": "markdown",
      "source": [
        "#Desarrollo de Modelo\n",
        "\n",
        "Un **modelo** se puede pensar como una ecuación matemática que se usa comúnmente para predecir un valor dado uno o más valores. Relacionando uno o más variables independientes o características a variables dependientes. Usualmente entre más datos relevantes se tienen más preciso es el modelo. "
      ],
      "metadata": {
        "id": "hWA2v7Vyt8hN"
      }
    },
    {
      "cell_type": "markdown",
      "source": [
        "# Regresión lineal simple y múltiple\n",
        "\n",
        "La **regresión lineal simple** o (*SLR*) es un método que permite conocer la relaciín entre dos variables: la predictora (independiente) $x$, y la variable objetivo (dependiente) $y$. Se busca entonces encontrar una relación lineal entre las dos variables que se mencionan. El parámetro $b_{0}$ es el *intercepto*, el parámetro $b_{1}$ representa la *pendiente*. Es posible determinar estos parámetros al ajustar o se entrenar el modelo.\n",
        "\n",
        "$y = b_{0}+b_{1}x$\n",
        "\n",
        "Para determinar la línea (en caso de ser lineal el problema) se toman distintos puntos del conjunto de datos y se entrenan para ajustar el modelo propuesto, los resultados de los puntos de entrenamiento son los parámetros. Se busca almacenar los puntos de datos en dos dataframe o arreglos numpy. Al valor que se busca predecir se le denomina el *objetivo* y usualmente se guarda en el arreglo $y$, la variable dependiente se guarda en el arreglo $x$. Cada muestra corresponde a renglones diferentes. \n",
        "\n",
        "$x = \\begin{bmatrix} a \\\\ b \\\\ c\\end{bmatrix}$ $y = \\begin{bmatrix} n \\\\ m \\\\ p\\end{bmatrix}$\n",
        "\n",
        "En los modelos una pequeña incertidumbre se representa mediante valores aleatorios añadidos al punto en la línea, a esto se le conoce como ruido. Se representa mediante una distribución Gaussiana, para cada segmento en la recta que igual puede no caer dentro de la misma línea, sino por arriba o por debajo de la misma. Para hacer el ajuste en Python debemos importar la librería desde **scikit-learn** y crear un objeto de regresión lineal usando un constructor. Definir la variable predictora y la variable objetivo. "
      ],
      "metadata": {
        "id": "H5pB3WwUwem8"
      }
    },
    {
      "cell_type": "code",
      "execution_count": 2,
      "metadata": {
        "id": "Mzel-kuqYQfB"
      },
      "outputs": [],
      "source": [
        "from sklearn.linear_model import LinearRegression\n",
        "# Crear un objeto de regresión lineal usando un constructor:\n",
        "Reg_Lineal = LinearRegression()\n",
        "# Se definen las variables predictoras y las objetivo:\n",
        "# X = df[['algo']]\n",
        "# Y = df[['algo']]\n",
        "# Luego se usa el método fit para ajustar el modelo y definir los parámetros b0 y b1\n",
        "# Reg_lineal.fit(X,Y)\n",
        "# Así se obtiene una predicción mediante el método predict\n",
        "# y_hat = Reg_Lineal.predict(X)"
      ]
    },
    {
      "cell_type": "markdown",
      "source": [
        "La salida es un arreglo con el mismo número de muestras que el de la variable de entrada $X$, el intercepto $b_{0}$ es un atributo del objeto Reg_Lineal al igual que $b_{1}$ \n",
        "\n",
        "La **regresión lineal múltiple** es utilizada para explicar la relación entre una variable objetivo ($Y$) contínua, y dos o más variables predictoras ($X$). Si se tienen 4 variables predictoras entonces:\n",
        "\n",
        "$\\hat{y} = b_{0}+b_{1}x_{1}+b_{2}x_{2}+b_{3}x_{3}+b_{4}x_{4}$\n",
        "\n",
        "$b_{0}$ sigue siendo el intercepto, $b_{1}$ el coeficiente del parámetro 1 y así sucesivamente. "
      ],
      "metadata": {
        "id": "7bBbro9Y_MuF"
      }
    },
    {
      "cell_type": "code",
      "source": [
        "# Se extraen las 4 variables predictoras y se guardan en la variable Z \n",
        "# z = df[['variable 1','variable 2', 'variable 3','variable 4']]\n",
        "# Se entrena el modelo \n",
        "# Reg_lineal.fit(Z,df['variable objetivo'])\n",
        "# Se predice\n",
        "# y_hat = Reg_Lineal.predict(Z)"
      ],
      "metadata": {
        "id": "ncFtwUWF_MC6"
      },
      "execution_count": 3,
      "outputs": []
    },
    {
      "cell_type": "markdown",
      "source": [
        "# Evaluación de modelos usando visualización\n",
        "\n",
        "Los gráficos de regresión son útiles para estimar: \n",
        "* La relación entre dos variables.\n",
        "* La fuerza de correlación. \n",
        "* La dirección de la relación (positiva o negativa).\n",
        "\n",
        "El eje horizonal representa la variable independiente (la abscisa), el eje vertical reprsenta a la variable dependiente (ordenada al origen). Hay distintas formas de trazar un gráfico de regresión en python, la manera más simple es mediante *regplot* de la librería de seaborn. "
      ],
      "metadata": {
        "id": "nSURvj_hFUtz"
      }
    },
    {
      "cell_type": "code",
      "source": [
        "import seaborn as sns\n",
        "\n",
        "#sns.regplot(x = 'variable predictora', y = 'variable objetivo', data =df)\n",
        "#plt.ylim(0,)"
      ],
      "metadata": {
        "id": "u7srZuPd-JUZ"
      },
      "execution_count": 4,
      "outputs": []
    },
    {
      "cell_type": "markdown",
      "source": [
        "$x$ contiene el nombre de la columna que contiene a la variable independiente, $y$ contiene el nombre de la columna que contiene a la variable dependiente u objetivo, el parámetro data es el nombre del conjunto de datos. \n",
        "\n",
        "Si se examina el valor de la predicción contra el valor actual se puede obtener una diferencia y dicho valor se grafica nuevamente en el eje vertical junto con la variable dependiente como eje horizontal. \n",
        "\n",
        "$\\hat{y}-y_{0}$\n",
        "\n",
        "Uno esperaría ver que los resultados tengan una media cero, es decir, que estén distribuidos de manera uniforme alrededor del eje $x$ con varianza similar, sin curvatura, este tipo de gráfico residual sugiere que un trazo lineal es apropiado. Para crear una gráfica residual se utiliza la librería seaborn y la función *residplot*."
      ],
      "metadata": {
        "id": "gc2kvh9VLuPg"
      }
    },
    {
      "cell_type": "code",
      "source": [
        "# sns.residplot(df['variable dependiente', 'variable dependiente u objetivo'])"
      ],
      "metadata": {
        "id": "M2TFZG5bLtx8"
      },
      "execution_count": 5,
      "outputs": []
    },
    {
      "cell_type": "markdown",
      "source": [
        "Un gráfico de distribución cuenta el valor de la predicción vs el valor actual. Este tipo de gráficos son útiles para visualizar modelos con más de una variable independiente o característica. "
      ],
      "metadata": {
        "id": "YpyodWvtXx1h"
      }
    },
    {
      "cell_type": "code",
      "source": [
        "# ax1 = sns.displot(df['var1'],hist = False, color = 'r', label='valor actual')\n",
        "# sns.displot(Yhat, hist = False, color = 'b', label = 'Valores ajustados', ax = ax1)"
      ],
      "metadata": {
        "id": "M2uIbwjHY7Tm"
      },
      "execution_count": 6,
      "outputs": []
    },
    {
      "cell_type": "markdown",
      "source": [
        "# Evaluación numérica\n",
        "\n",
        "Estás mediciones son una forma para determinar numéricamente que tan bien se ajuta el modelo a nuestros datos. Las métricas más comúnmente utilizadas son: \n",
        "1. MSE (Error cuadrático medio)\n",
        "2. $R^{2}$: R- cuadrado. \n",
        "\n",
        "El MSE se define como la diferencia entre el valor actual y el valor de la predicción $\\hat{y}$ elevados a la segunda potencia y dividido entre el número de muestras.\n",
        "\n",
        "$MSE = \\frac{1}{n} ∑_{i=1}^{n} (y_{i}-\\hat{y_{i}})^{2}$\n",
        "\n",
        "Para hacer uso de está métrica que necesita importar a nuestro espacio la librería de scikit-learn.metrics:"
      ],
      "metadata": {
        "id": "DBf0yF4bcHEB"
      }
    },
    {
      "cell_type": "code",
      "source": [
        "from sklearn.metrics import mean_squared_error\n",
        "\n",
        "# mean_squared_error(df['variable'], Y_predict_simple_fit)"
      ],
      "metadata": {
        "id": "h_7aJPa5elpS"
      },
      "execution_count": 7,
      "outputs": []
    },
    {
      "cell_type": "markdown",
      "source": [
        "La función tiene dos entradas: el valor actual de la variable objetivo y la variable de predicción de dicho objetivo. \n",
        "\n",
        "R-cuadrado, es también denominado como coeficiente de determinación y es una métrica que censa que tan cercanos son los valores del conjunto de datos a los valores del ajuste de la regresión lineal, es decir, que tan pegados están los datos actuales con el modelo de predicción. \n",
        "\n",
        "$R^{2} = \\bigg( 1 - \\frac{MSE_{\\ de \\ la \\ linea \\ de \\ regresion}}{MSE_{\\ del \\ promedio \\ de \\ los \\ datos}} \\bigg)$ \n",
        "\n",
        "o\n",
        "\n",
        "$R^{2} = \\frac{ ∑_{i=1}^{n} (\\hat{y_{i}}-\\bar{y})^{2}}{∑_{i=1}^{n} (y_{i}-\\bar{y})^{2}}$\n",
        "\n",
        "Los valores que tienden a cero son indicadores de un ajuste relativamente bueno, ya que al ser un valor del cociente de los dos MSE's que se aproxima a 0 o un número muy pequeño a la hora de operar la diferencia el valor final $≈ 1$. Por ende es un modelo que tiene un buen ajuste. Caso contrario, cuado el cociente tiende → 1 entonces la diferencia $≈ 0$, entonces la línea propuesta tendrá casi el mismo desempeño que usar la media del conjunto de datos, por lo tanto, no es un buen ajuste. Para usar el R-cuadrado en Python se utiliza el método *score*."
      ],
      "metadata": {
        "id": "0dnz2enheXUJ"
      }
    },
    {
      "cell_type": "code",
      "source": [
        "#Reg_Lineal.score(x,y)"
      ],
      "metadata": {
        "id": "oJz5Nij8oU3m"
      },
      "execution_count": 8,
      "outputs": []
    },
    {
      "cell_type": "markdown",
      "source": [
        "# Predicción y Decisiones\n",
        "\n",
        "Para conocer el coeficiente de una predicción se utiliza el método: *.coef_*. En algunas ocaciones el modelo producirá valores que no hagan sentido. \n",
        "\n",
        "Para eso hay que acotar las predicciones a espacios dónde sí tengan sentido. Para generar una secuencia de valores en un rango específico se importa la librería de numpy, y se utiliza la función *arrange*:\n"
      ],
      "metadata": {
        "id": "FQO_JCqqomSS"
      }
    },
    {
      "cell_type": "code",
      "source": [
        "import numpy as np\n",
        "# Utilizamos la función de numpu arrange para generar una secuencia de 1 a 100:\n",
        "nueva_entrada = np.arange(1,101,1).reshape(-1,1)\n",
        "# empieza en el 1 y termina en N+1, y los pasos de 1.\n"
      ],
      "metadata": {
        "id": "xDkbvdifqGBR"
      },
      "execution_count": 9,
      "outputs": []
    },
    {
      "cell_type": "code",
      "source": [
        "# usamos una salida para predecir nuevos valores; la salida es un arreglo de numpy\n",
        "# yhat = Reg_Lineal.predict(nueva_entrada)"
      ],
      "metadata": {
        "id": "Hpm6xB96qWmq"
      },
      "execution_count": 10,
      "outputs": []
    },
    {
      "cell_type": "markdown",
      "source": [
        "Un valor aceptable para $R^2$ depende del campo que se esté estudiando. Algunos autores sugieren que un valor debe ser igual o superior a 0.10.\n",
        "\n",
        "Al comparar RLM y RLS: ¿Un MSE más bajo siempre implica un mejor ajuste?, No necesariamente. El MSE para un modelo RLM será más pequeño que el MSE para un modelo RLS, ya que los errores de los datos disminuirán cuando se incluyan más variables en el modelo. La regresión polinomial también tendrá un MSE más pequeño que la regresión regular. Una relación inversa similar se mantiene para $R^2$."
      ],
      "metadata": {
        "id": "5PSmjTOrr0K_"
      }
    },
    {
      "cell_type": "markdown",
      "source": [
        "# Laboratorio"
      ],
      "metadata": {
        "id": "-DQFbNy9IpdO"
      }
    },
    {
      "cell_type": "code",
      "source": [
        "path = 'https://cf-courses-data.s3.us.cloud-object-storage.appdomain.cloud/IBMDeveloperSkillsNetwork-DA0101EN-SkillsNetwork/labs/Data%20files/automobileEDA.csv'"
      ],
      "metadata": {
        "id": "mrCPbBJTIodC"
      },
      "execution_count": 11,
      "outputs": []
    },
    {
      "cell_type": "code",
      "source": [
        "# Leemos los archivos de entrada en un dataframe\n",
        "import pandas as pd\n",
        "df = pd.read_csv(path)\n",
        "df.head()"
      ],
      "metadata": {
        "colab": {
          "base_uri": "https://localhost:8080/",
          "height": 386
        },
        "id": "JAGec61crKgh",
        "outputId": "746a2b03-d06a-4d58-a6b0-326caadc633c"
      },
      "execution_count": 12,
      "outputs": [
        {
          "output_type": "execute_result",
          "data": {
            "text/plain": [
              "   symboling  normalized-losses         make aspiration num-of-doors  \\\n",
              "0          3                122  alfa-romero        std          two   \n",
              "1          3                122  alfa-romero        std          two   \n",
              "2          1                122  alfa-romero        std          two   \n",
              "3          2                164         audi        std         four   \n",
              "4          2                164         audi        std         four   \n",
              "\n",
              "    body-style drive-wheels engine-location  wheel-base    length  ...  \\\n",
              "0  convertible          rwd           front        88.6  0.811148  ...   \n",
              "1  convertible          rwd           front        88.6  0.811148  ...   \n",
              "2    hatchback          rwd           front        94.5  0.822681  ...   \n",
              "3        sedan          fwd           front        99.8  0.848630  ...   \n",
              "4        sedan          4wd           front        99.4  0.848630  ...   \n",
              "\n",
              "   compression-ratio  horsepower  peak-rpm city-mpg highway-mpg    price  \\\n",
              "0                9.0       111.0    5000.0       21          27  13495.0   \n",
              "1                9.0       111.0    5000.0       21          27  16500.0   \n",
              "2                9.0       154.0    5000.0       19          26  16500.0   \n",
              "3               10.0       102.0    5500.0       24          30  13950.0   \n",
              "4                8.0       115.0    5500.0       18          22  17450.0   \n",
              "\n",
              "  city-L/100km  horsepower-binned  diesel  gas  \n",
              "0    11.190476             Medium       0    1  \n",
              "1    11.190476             Medium       0    1  \n",
              "2    12.368421             Medium       0    1  \n",
              "3     9.791667             Medium       0    1  \n",
              "4    13.055556             Medium       0    1  \n",
              "\n",
              "[5 rows x 29 columns]"
            ],
            "text/html": [
              "\n",
              "  <div id=\"df-853d6583-d2cf-46fa-8e34-662dc568e26e\">\n",
              "    <div class=\"colab-df-container\">\n",
              "      <div>\n",
              "<style scoped>\n",
              "    .dataframe tbody tr th:only-of-type {\n",
              "        vertical-align: middle;\n",
              "    }\n",
              "\n",
              "    .dataframe tbody tr th {\n",
              "        vertical-align: top;\n",
              "    }\n",
              "\n",
              "    .dataframe thead th {\n",
              "        text-align: right;\n",
              "    }\n",
              "</style>\n",
              "<table border=\"1\" class=\"dataframe\">\n",
              "  <thead>\n",
              "    <tr style=\"text-align: right;\">\n",
              "      <th></th>\n",
              "      <th>symboling</th>\n",
              "      <th>normalized-losses</th>\n",
              "      <th>make</th>\n",
              "      <th>aspiration</th>\n",
              "      <th>num-of-doors</th>\n",
              "      <th>body-style</th>\n",
              "      <th>drive-wheels</th>\n",
              "      <th>engine-location</th>\n",
              "      <th>wheel-base</th>\n",
              "      <th>length</th>\n",
              "      <th>...</th>\n",
              "      <th>compression-ratio</th>\n",
              "      <th>horsepower</th>\n",
              "      <th>peak-rpm</th>\n",
              "      <th>city-mpg</th>\n",
              "      <th>highway-mpg</th>\n",
              "      <th>price</th>\n",
              "      <th>city-L/100km</th>\n",
              "      <th>horsepower-binned</th>\n",
              "      <th>diesel</th>\n",
              "      <th>gas</th>\n",
              "    </tr>\n",
              "  </thead>\n",
              "  <tbody>\n",
              "    <tr>\n",
              "      <th>0</th>\n",
              "      <td>3</td>\n",
              "      <td>122</td>\n",
              "      <td>alfa-romero</td>\n",
              "      <td>std</td>\n",
              "      <td>two</td>\n",
              "      <td>convertible</td>\n",
              "      <td>rwd</td>\n",
              "      <td>front</td>\n",
              "      <td>88.6</td>\n",
              "      <td>0.811148</td>\n",
              "      <td>...</td>\n",
              "      <td>9.0</td>\n",
              "      <td>111.0</td>\n",
              "      <td>5000.0</td>\n",
              "      <td>21</td>\n",
              "      <td>27</td>\n",
              "      <td>13495.0</td>\n",
              "      <td>11.190476</td>\n",
              "      <td>Medium</td>\n",
              "      <td>0</td>\n",
              "      <td>1</td>\n",
              "    </tr>\n",
              "    <tr>\n",
              "      <th>1</th>\n",
              "      <td>3</td>\n",
              "      <td>122</td>\n",
              "      <td>alfa-romero</td>\n",
              "      <td>std</td>\n",
              "      <td>two</td>\n",
              "      <td>convertible</td>\n",
              "      <td>rwd</td>\n",
              "      <td>front</td>\n",
              "      <td>88.6</td>\n",
              "      <td>0.811148</td>\n",
              "      <td>...</td>\n",
              "      <td>9.0</td>\n",
              "      <td>111.0</td>\n",
              "      <td>5000.0</td>\n",
              "      <td>21</td>\n",
              "      <td>27</td>\n",
              "      <td>16500.0</td>\n",
              "      <td>11.190476</td>\n",
              "      <td>Medium</td>\n",
              "      <td>0</td>\n",
              "      <td>1</td>\n",
              "    </tr>\n",
              "    <tr>\n",
              "      <th>2</th>\n",
              "      <td>1</td>\n",
              "      <td>122</td>\n",
              "      <td>alfa-romero</td>\n",
              "      <td>std</td>\n",
              "      <td>two</td>\n",
              "      <td>hatchback</td>\n",
              "      <td>rwd</td>\n",
              "      <td>front</td>\n",
              "      <td>94.5</td>\n",
              "      <td>0.822681</td>\n",
              "      <td>...</td>\n",
              "      <td>9.0</td>\n",
              "      <td>154.0</td>\n",
              "      <td>5000.0</td>\n",
              "      <td>19</td>\n",
              "      <td>26</td>\n",
              "      <td>16500.0</td>\n",
              "      <td>12.368421</td>\n",
              "      <td>Medium</td>\n",
              "      <td>0</td>\n",
              "      <td>1</td>\n",
              "    </tr>\n",
              "    <tr>\n",
              "      <th>3</th>\n",
              "      <td>2</td>\n",
              "      <td>164</td>\n",
              "      <td>audi</td>\n",
              "      <td>std</td>\n",
              "      <td>four</td>\n",
              "      <td>sedan</td>\n",
              "      <td>fwd</td>\n",
              "      <td>front</td>\n",
              "      <td>99.8</td>\n",
              "      <td>0.848630</td>\n",
              "      <td>...</td>\n",
              "      <td>10.0</td>\n",
              "      <td>102.0</td>\n",
              "      <td>5500.0</td>\n",
              "      <td>24</td>\n",
              "      <td>30</td>\n",
              "      <td>13950.0</td>\n",
              "      <td>9.791667</td>\n",
              "      <td>Medium</td>\n",
              "      <td>0</td>\n",
              "      <td>1</td>\n",
              "    </tr>\n",
              "    <tr>\n",
              "      <th>4</th>\n",
              "      <td>2</td>\n",
              "      <td>164</td>\n",
              "      <td>audi</td>\n",
              "      <td>std</td>\n",
              "      <td>four</td>\n",
              "      <td>sedan</td>\n",
              "      <td>4wd</td>\n",
              "      <td>front</td>\n",
              "      <td>99.4</td>\n",
              "      <td>0.848630</td>\n",
              "      <td>...</td>\n",
              "      <td>8.0</td>\n",
              "      <td>115.0</td>\n",
              "      <td>5500.0</td>\n",
              "      <td>18</td>\n",
              "      <td>22</td>\n",
              "      <td>17450.0</td>\n",
              "      <td>13.055556</td>\n",
              "      <td>Medium</td>\n",
              "      <td>0</td>\n",
              "      <td>1</td>\n",
              "    </tr>\n",
              "  </tbody>\n",
              "</table>\n",
              "<p>5 rows × 29 columns</p>\n",
              "</div>\n",
              "      <button class=\"colab-df-convert\" onclick=\"convertToInteractive('df-853d6583-d2cf-46fa-8e34-662dc568e26e')\"\n",
              "              title=\"Convert this dataframe to an interactive table.\"\n",
              "              style=\"display:none;\">\n",
              "        \n",
              "  <svg xmlns=\"http://www.w3.org/2000/svg\" height=\"24px\"viewBox=\"0 0 24 24\"\n",
              "       width=\"24px\">\n",
              "    <path d=\"M0 0h24v24H0V0z\" fill=\"none\"/>\n",
              "    <path d=\"M18.56 5.44l.94 2.06.94-2.06 2.06-.94-2.06-.94-.94-2.06-.94 2.06-2.06.94zm-11 1L8.5 8.5l.94-2.06 2.06-.94-2.06-.94L8.5 2.5l-.94 2.06-2.06.94zm10 10l.94 2.06.94-2.06 2.06-.94-2.06-.94-.94-2.06-.94 2.06-2.06.94z\"/><path d=\"M17.41 7.96l-1.37-1.37c-.4-.4-.92-.59-1.43-.59-.52 0-1.04.2-1.43.59L10.3 9.45l-7.72 7.72c-.78.78-.78 2.05 0 2.83L4 21.41c.39.39.9.59 1.41.59.51 0 1.02-.2 1.41-.59l7.78-7.78 2.81-2.81c.8-.78.8-2.07 0-2.86zM5.41 20L4 18.59l7.72-7.72 1.47 1.35L5.41 20z\"/>\n",
              "  </svg>\n",
              "      </button>\n",
              "      \n",
              "  <style>\n",
              "    .colab-df-container {\n",
              "      display:flex;\n",
              "      flex-wrap:wrap;\n",
              "      gap: 12px;\n",
              "    }\n",
              "\n",
              "    .colab-df-convert {\n",
              "      background-color: #E8F0FE;\n",
              "      border: none;\n",
              "      border-radius: 50%;\n",
              "      cursor: pointer;\n",
              "      display: none;\n",
              "      fill: #1967D2;\n",
              "      height: 32px;\n",
              "      padding: 0 0 0 0;\n",
              "      width: 32px;\n",
              "    }\n",
              "\n",
              "    .colab-df-convert:hover {\n",
              "      background-color: #E2EBFA;\n",
              "      box-shadow: 0px 1px 2px rgba(60, 64, 67, 0.3), 0px 1px 3px 1px rgba(60, 64, 67, 0.15);\n",
              "      fill: #174EA6;\n",
              "    }\n",
              "\n",
              "    [theme=dark] .colab-df-convert {\n",
              "      background-color: #3B4455;\n",
              "      fill: #D2E3FC;\n",
              "    }\n",
              "\n",
              "    [theme=dark] .colab-df-convert:hover {\n",
              "      background-color: #434B5C;\n",
              "      box-shadow: 0px 1px 3px 1px rgba(0, 0, 0, 0.15);\n",
              "      filter: drop-shadow(0px 1px 2px rgba(0, 0, 0, 0.3));\n",
              "      fill: #FFFFFF;\n",
              "    }\n",
              "  </style>\n",
              "\n",
              "      <script>\n",
              "        const buttonEl =\n",
              "          document.querySelector('#df-853d6583-d2cf-46fa-8e34-662dc568e26e button.colab-df-convert');\n",
              "        buttonEl.style.display =\n",
              "          google.colab.kernel.accessAllowed ? 'block' : 'none';\n",
              "\n",
              "        async function convertToInteractive(key) {\n",
              "          const element = document.querySelector('#df-853d6583-d2cf-46fa-8e34-662dc568e26e');\n",
              "          const dataTable =\n",
              "            await google.colab.kernel.invokeFunction('convertToInteractive',\n",
              "                                                     [key], {});\n",
              "          if (!dataTable) return;\n",
              "\n",
              "          const docLinkHtml = 'Like what you see? Visit the ' +\n",
              "            '<a target=\"_blank\" href=https://colab.research.google.com/notebooks/data_table.ipynb>data table notebook</a>'\n",
              "            + ' to learn more about interactive tables.';\n",
              "          element.innerHTML = '';\n",
              "          dataTable['output_type'] = 'display_data';\n",
              "          await google.colab.output.renderOutput(dataTable, element);\n",
              "          const docLink = document.createElement('div');\n",
              "          docLink.innerHTML = docLinkHtml;\n",
              "          element.appendChild(docLink);\n",
              "        }\n",
              "      </script>\n",
              "    </div>\n",
              "  </div>\n",
              "  "
            ]
          },
          "metadata": {},
          "execution_count": 12
        }
      ]
    },
    {
      "cell_type": "markdown",
      "source": [
        "Regresión lineal simple: la variable predictora $x$ y la variable objetivo $y$, así que creamos un objeto con la regresión lineal:"
      ],
      "metadata": {
        "id": "tZX9ONtiJHrS"
      }
    },
    {
      "cell_type": "code",
      "source": [
        "Reg_Lineal = LinearRegression()"
      ],
      "metadata": {
        "id": "TxhbjCFPI6f0"
      },
      "execution_count": 13,
      "outputs": []
    },
    {
      "cell_type": "markdown",
      "source": [
        "¿Cómo la variable millas de carretera por galón nos puede ayudar a predecir el precio del coche?"
      ],
      "metadata": {
        "id": "2SYU7AvLJpmQ"
      }
    },
    {
      "cell_type": "code",
      "source": [
        "X = df[['highway-mpg']] # Se crea otro dataframe únicamente con la característica mcpg\n",
        "Y = df['price']"
      ],
      "metadata": {
        "id": "unavOEsRRXM3"
      },
      "execution_count": 14,
      "outputs": []
    },
    {
      "cell_type": "code",
      "source": [
        "X.head()"
      ],
      "metadata": {
        "colab": {
          "base_uri": "https://localhost:8080/",
          "height": 206
        },
        "id": "fQ1fRwpN-YNi",
        "outputId": "fe1103f8-6c21-451c-8f36-6753b14467ed"
      },
      "execution_count": 15,
      "outputs": [
        {
          "output_type": "execute_result",
          "data": {
            "text/plain": [
              "   highway-mpg\n",
              "0           27\n",
              "1           27\n",
              "2           26\n",
              "3           30\n",
              "4           22"
            ],
            "text/html": [
              "\n",
              "  <div id=\"df-9a738179-a764-4de1-adf4-84cc62a6fc8e\">\n",
              "    <div class=\"colab-df-container\">\n",
              "      <div>\n",
              "<style scoped>\n",
              "    .dataframe tbody tr th:only-of-type {\n",
              "        vertical-align: middle;\n",
              "    }\n",
              "\n",
              "    .dataframe tbody tr th {\n",
              "        vertical-align: top;\n",
              "    }\n",
              "\n",
              "    .dataframe thead th {\n",
              "        text-align: right;\n",
              "    }\n",
              "</style>\n",
              "<table border=\"1\" class=\"dataframe\">\n",
              "  <thead>\n",
              "    <tr style=\"text-align: right;\">\n",
              "      <th></th>\n",
              "      <th>highway-mpg</th>\n",
              "    </tr>\n",
              "  </thead>\n",
              "  <tbody>\n",
              "    <tr>\n",
              "      <th>0</th>\n",
              "      <td>27</td>\n",
              "    </tr>\n",
              "    <tr>\n",
              "      <th>1</th>\n",
              "      <td>27</td>\n",
              "    </tr>\n",
              "    <tr>\n",
              "      <th>2</th>\n",
              "      <td>26</td>\n",
              "    </tr>\n",
              "    <tr>\n",
              "      <th>3</th>\n",
              "      <td>30</td>\n",
              "    </tr>\n",
              "    <tr>\n",
              "      <th>4</th>\n",
              "      <td>22</td>\n",
              "    </tr>\n",
              "  </tbody>\n",
              "</table>\n",
              "</div>\n",
              "      <button class=\"colab-df-convert\" onclick=\"convertToInteractive('df-9a738179-a764-4de1-adf4-84cc62a6fc8e')\"\n",
              "              title=\"Convert this dataframe to an interactive table.\"\n",
              "              style=\"display:none;\">\n",
              "        \n",
              "  <svg xmlns=\"http://www.w3.org/2000/svg\" height=\"24px\"viewBox=\"0 0 24 24\"\n",
              "       width=\"24px\">\n",
              "    <path d=\"M0 0h24v24H0V0z\" fill=\"none\"/>\n",
              "    <path d=\"M18.56 5.44l.94 2.06.94-2.06 2.06-.94-2.06-.94-.94-2.06-.94 2.06-2.06.94zm-11 1L8.5 8.5l.94-2.06 2.06-.94-2.06-.94L8.5 2.5l-.94 2.06-2.06.94zm10 10l.94 2.06.94-2.06 2.06-.94-2.06-.94-.94-2.06-.94 2.06-2.06.94z\"/><path d=\"M17.41 7.96l-1.37-1.37c-.4-.4-.92-.59-1.43-.59-.52 0-1.04.2-1.43.59L10.3 9.45l-7.72 7.72c-.78.78-.78 2.05 0 2.83L4 21.41c.39.39.9.59 1.41.59.51 0 1.02-.2 1.41-.59l7.78-7.78 2.81-2.81c.8-.78.8-2.07 0-2.86zM5.41 20L4 18.59l7.72-7.72 1.47 1.35L5.41 20z\"/>\n",
              "  </svg>\n",
              "      </button>\n",
              "      \n",
              "  <style>\n",
              "    .colab-df-container {\n",
              "      display:flex;\n",
              "      flex-wrap:wrap;\n",
              "      gap: 12px;\n",
              "    }\n",
              "\n",
              "    .colab-df-convert {\n",
              "      background-color: #E8F0FE;\n",
              "      border: none;\n",
              "      border-radius: 50%;\n",
              "      cursor: pointer;\n",
              "      display: none;\n",
              "      fill: #1967D2;\n",
              "      height: 32px;\n",
              "      padding: 0 0 0 0;\n",
              "      width: 32px;\n",
              "    }\n",
              "\n",
              "    .colab-df-convert:hover {\n",
              "      background-color: #E2EBFA;\n",
              "      box-shadow: 0px 1px 2px rgba(60, 64, 67, 0.3), 0px 1px 3px 1px rgba(60, 64, 67, 0.15);\n",
              "      fill: #174EA6;\n",
              "    }\n",
              "\n",
              "    [theme=dark] .colab-df-convert {\n",
              "      background-color: #3B4455;\n",
              "      fill: #D2E3FC;\n",
              "    }\n",
              "\n",
              "    [theme=dark] .colab-df-convert:hover {\n",
              "      background-color: #434B5C;\n",
              "      box-shadow: 0px 1px 3px 1px rgba(0, 0, 0, 0.15);\n",
              "      filter: drop-shadow(0px 1px 2px rgba(0, 0, 0, 0.3));\n",
              "      fill: #FFFFFF;\n",
              "    }\n",
              "  </style>\n",
              "\n",
              "      <script>\n",
              "        const buttonEl =\n",
              "          document.querySelector('#df-9a738179-a764-4de1-adf4-84cc62a6fc8e button.colab-df-convert');\n",
              "        buttonEl.style.display =\n",
              "          google.colab.kernel.accessAllowed ? 'block' : 'none';\n",
              "\n",
              "        async function convertToInteractive(key) {\n",
              "          const element = document.querySelector('#df-9a738179-a764-4de1-adf4-84cc62a6fc8e');\n",
              "          const dataTable =\n",
              "            await google.colab.kernel.invokeFunction('convertToInteractive',\n",
              "                                                     [key], {});\n",
              "          if (!dataTable) return;\n",
              "\n",
              "          const docLinkHtml = 'Like what you see? Visit the ' +\n",
              "            '<a target=\"_blank\" href=https://colab.research.google.com/notebooks/data_table.ipynb>data table notebook</a>'\n",
              "            + ' to learn more about interactive tables.';\n",
              "          element.innerHTML = '';\n",
              "          dataTable['output_type'] = 'display_data';\n",
              "          await google.colab.output.renderOutput(dataTable, element);\n",
              "          const docLink = document.createElement('div');\n",
              "          docLink.innerHTML = docLinkHtml;\n",
              "          element.appendChild(docLink);\n",
              "        }\n",
              "      </script>\n",
              "    </div>\n",
              "  </div>\n",
              "  "
            ]
          },
          "metadata": {},
          "execution_count": 15
        }
      ]
    },
    {
      "cell_type": "code",
      "source": [
        "Reg_Lineal.fit(X,Y)"
      ],
      "metadata": {
        "colab": {
          "base_uri": "https://localhost:8080/"
        },
        "id": "a2SS3q7jSxN7",
        "outputId": "e65a4a70-599b-4efb-8c7b-40ad50c73d2a"
      },
      "execution_count": 16,
      "outputs": [
        {
          "output_type": "execute_result",
          "data": {
            "text/plain": [
              "LinearRegression()"
            ]
          },
          "metadata": {},
          "execution_count": 16
        }
      ]
    },
    {
      "cell_type": "code",
      "source": [
        "Yhat=Reg_Lineal.predict(X)\n",
        "Yhat[0:5]  "
      ],
      "metadata": {
        "colab": {
          "base_uri": "https://localhost:8080/"
        },
        "id": "PBem5nxdS4_-",
        "outputId": "a7b21b95-c05c-4770-ae24-09e52cfb8380"
      },
      "execution_count": 17,
      "outputs": [
        {
          "output_type": "execute_result",
          "data": {
            "text/plain": [
              "array([16236.50464347, 16236.50464347, 17058.23802179, 13771.3045085 ,\n",
              "       20345.17153508])"
            ]
          },
          "metadata": {},
          "execution_count": 17
        }
      ]
    },
    {
      "cell_type": "code",
      "source": [
        "Reg_Lineal.intercept_"
      ],
      "metadata": {
        "colab": {
          "base_uri": "https://localhost:8080/"
        },
        "id": "BkOwdVsTTFGH",
        "outputId": "5d181d40-3084-4dd1-db70-51d4806bed2a"
      },
      "execution_count": 18,
      "outputs": [
        {
          "output_type": "execute_result",
          "data": {
            "text/plain": [
              "38423.3058581574"
            ]
          },
          "metadata": {},
          "execution_count": 18
        }
      ]
    },
    {
      "cell_type": "code",
      "source": [
        "Reg_Lineal.coef_"
      ],
      "metadata": {
        "colab": {
          "base_uri": "https://localhost:8080/"
        },
        "id": "p0g4lrcBTSkJ",
        "outputId": "96a0eaf5-3e5a-47a0-e2c6-7b4b53dd3e34"
      },
      "execution_count": 19,
      "outputs": [
        {
          "output_type": "execute_result",
          "data": {
            "text/plain": [
              "array([-821.73337832])"
            ]
          },
          "metadata": {},
          "execution_count": 19
        }
      ]
    },
    {
      "cell_type": "markdown",
      "source": [
        "Por lo tanto el modelo nos queda como:\n",
        "\n",
        "$Precio = 38423.31 - 821.73(millas \\ de \\ carretera \\ por \\ galon )$"
      ],
      "metadata": {
        "id": "EREWrOK7Tepi"
      }
    },
    {
      "cell_type": "markdown",
      "source": [
        "*Preguntas*: QUIZ"
      ],
      "metadata": {
        "id": "GZTxPike-ztw"
      }
    },
    {
      "cell_type": "code",
      "source": [],
      "metadata": {
        "id": "3iUXv_LGAVqm"
      },
      "execution_count": null,
      "outputs": []
    },
    {
      "cell_type": "code",
      "source": [
        "lm1 = LinearRegression()"
      ],
      "metadata": {
        "id": "sl4jmLCXTZhb"
      },
      "execution_count": 20,
      "outputs": []
    },
    {
      "cell_type": "code",
      "source": [
        "lm1.fit(df[['engine-size']],Y)"
      ],
      "metadata": {
        "colab": {
          "base_uri": "https://localhost:8080/"
        },
        "id": "KAhQMiMr--Pi",
        "outputId": "ef9a9434-a1ea-40fd-9a60-81ee2cc5154b"
      },
      "execution_count": 21,
      "outputs": [
        {
          "output_type": "execute_result",
          "data": {
            "text/plain": [
              "LinearRegression()"
            ]
          },
          "metadata": {},
          "execution_count": 21
        }
      ]
    },
    {
      "cell_type": "code",
      "source": [
        "lm1.coef_"
      ],
      "metadata": {
        "colab": {
          "base_uri": "https://localhost:8080/"
        },
        "id": "Q69VZ1YU_HZC",
        "outputId": "f66b7ffa-add8-4975-cbe6-c895b4d536b1"
      },
      "execution_count": 22,
      "outputs": [
        {
          "output_type": "execute_result",
          "data": {
            "text/plain": [
              "array([166.86001569])"
            ]
          },
          "metadata": {},
          "execution_count": 22
        }
      ]
    },
    {
      "cell_type": "code",
      "source": [
        "lm1.intercept_"
      ],
      "metadata": {
        "colab": {
          "base_uri": "https://localhost:8080/"
        },
        "id": "aA433pzH_QmC",
        "outputId": "8ebae2d9-39de-4c53-a8ee-32495e342c7f"
      },
      "execution_count": 23,
      "outputs": [
        {
          "output_type": "execute_result",
          "data": {
            "text/plain": [
              "-7963.338906281042"
            ]
          },
          "metadata": {},
          "execution_count": 23
        }
      ]
    },
    {
      "cell_type": "markdown",
      "source": [
        "Ecuación de predicción:\n",
        "\n",
        "$Precio=-7963.34 + 166.86(Dimension \\ de \\ motor)$"
      ],
      "metadata": {
        "id": "4Ki1ytVp_aDK"
      }
    },
    {
      "cell_type": "code",
      "source": [
        "Z = df[['horsepower', 'curb-weight', 'engine-size', 'highway-mpg']]"
      ],
      "metadata": {
        "id": "c-5zaCwT_Tlz"
      },
      "execution_count": 24,
      "outputs": []
    },
    {
      "cell_type": "code",
      "source": [
        "Reg_Lineal.fit(Z, df['price'])"
      ],
      "metadata": {
        "colab": {
          "base_uri": "https://localhost:8080/"
        },
        "id": "xcDeyvrDALHd",
        "outputId": "9189183c-a781-4caa-dfad-9c97a2ff01f8"
      },
      "execution_count": 26,
      "outputs": [
        {
          "output_type": "execute_result",
          "data": {
            "text/plain": [
              "LinearRegression()"
            ]
          },
          "metadata": {},
          "execution_count": 26
        }
      ]
    },
    {
      "cell_type": "code",
      "source": [
        "Reg_Lineal.intercept_"
      ],
      "metadata": {
        "colab": {
          "base_uri": "https://localhost:8080/"
        },
        "id": "-PkgzV-fANK2",
        "outputId": "bf435e0e-c3cd-4278-84de-5ba9836c3776"
      },
      "execution_count": 27,
      "outputs": [
        {
          "output_type": "execute_result",
          "data": {
            "text/plain": [
              "-15806.62462632922"
            ]
          },
          "metadata": {},
          "execution_count": 27
        }
      ]
    },
    {
      "cell_type": "code",
      "source": [
        "Reg_Lineal.coef_"
      ],
      "metadata": {
        "colab": {
          "base_uri": "https://localhost:8080/"
        },
        "id": "Lyr_tOn-AY9-",
        "outputId": "b98b00ac-8e1e-4342-949c-6cfb110e99a2"
      },
      "execution_count": 28,
      "outputs": [
        {
          "output_type": "execute_result",
          "data": {
            "text/plain": [
              "array([53.49574423,  4.70770099, 81.53026382, 36.05748882])"
            ]
          },
          "metadata": {},
          "execution_count": 28
        }
      ]
    },
    {
      "cell_type": "markdown",
      "source": [
        "Para la regresión lineal múltiple tenemos dadas las variables ya previstas el siguiente modelo:\n",
        "\n",
        "$Precio = -15678.742628061467 + 52.65851272 \\cdot x_{1} + 4.69878948 \\cdot x_{2} + 81.95906216 \\cdot x_{3} + 33.58258185 \\cdot x_{4}$"
      ],
      "metadata": {
        "id": "r6VuYVoGAgrV"
      }
    },
    {
      "cell_type": "markdown",
      "source": [
        "Quiz 2"
      ],
      "metadata": {
        "id": "fxN1E3m9Dpec"
      }
    },
    {
      "cell_type": "code",
      "source": [
        "lm2 = LinearRegression()\n",
        "lm2.fit(df[['normalized-losses','highway-mpg']],df['price'])"
      ],
      "metadata": {
        "colab": {
          "base_uri": "https://localhost:8080/"
        },
        "id": "bxEHDgLiAbtV",
        "outputId": "b048a24f-ca95-4c66-af6e-e450c0261487"
      },
      "execution_count": 29,
      "outputs": [
        {
          "output_type": "execute_result",
          "data": {
            "text/plain": [
              "LinearRegression()"
            ]
          },
          "metadata": {},
          "execution_count": 29
        }
      ]
    },
    {
      "cell_type": "code",
      "source": [
        "lm2.coef_"
      ],
      "metadata": {
        "colab": {
          "base_uri": "https://localhost:8080/"
        },
        "id": "XPRL61-1DrPH",
        "outputId": "803c8a2d-999d-4e66-d670-5a18a36bfa24"
      },
      "execution_count": 30,
      "outputs": [
        {
          "output_type": "execute_result",
          "data": {
            "text/plain": [
              "array([   1.49789586, -820.45434016])"
            ]
          },
          "metadata": {},
          "execution_count": 30
        }
      ]
    },
    {
      "cell_type": "code",
      "source": [
        "lm2.intercept_"
      ],
      "metadata": {
        "colab": {
          "base_uri": "https://localhost:8080/"
        },
        "id": "9CsVZnKvDu0A",
        "outputId": "adc13ed5-3ab8-4dde-bc7f-45d8f1469def"
      },
      "execution_count": 31,
      "outputs": [
        {
          "output_type": "execute_result",
          "data": {
            "text/plain": [
              "38201.31327245728"
            ]
          },
          "metadata": {},
          "execution_count": 31
        }
      ]
    },
    {
      "cell_type": "code",
      "source": [
        "import seaborn as sns\n",
        "%matplotlib inline \n",
        "import matplotlib.pyplot as plt"
      ],
      "metadata": {
        "id": "_bKNMK3eDzFF"
      },
      "execution_count": 34,
      "outputs": []
    },
    {
      "cell_type": "code",
      "source": [
        "width = 12\n",
        "height = 10\n",
        "plt.figure(figsize=(width, height))\n",
        "sns.regplot(x=\"highway-mpg\", y=\"price\", data=df)\n",
        "plt.ylim(0,)"
      ],
      "metadata": {
        "colab": {
          "base_uri": "https://localhost:8080/",
          "height": 623
        },
        "id": "-7YOh-vcEDfF",
        "outputId": "d5ba08f2-45c6-4b3d-b361-4258153ad27b"
      },
      "execution_count": 35,
      "outputs": [
        {
          "output_type": "execute_result",
          "data": {
            "text/plain": [
              "(0.0, 48184.18126861617)"
            ]
          },
          "metadata": {},
          "execution_count": 35
        },
        {
          "output_type": "display_data",
          "data": {
            "text/plain": [
              "<Figure size 864x720 with 1 Axes>"
            ],
            "image/png": "[encoded data removed]"
          },
          "metadata": {
            "needs_background": "light"
          }
        }
      ]
    },
    {
      "cell_type": "markdown",
      "source": [
        "El precio está correlacionado de forma negativa con la variable de millas de carretera por galón. "
      ],
      "metadata": {
        "id": "G1lx290QHiyw"
      }
    },
    {
      "cell_type": "code",
      "source": [
        "plt.figure(figsize=(width, height))\n",
        "sns.regplot(x=\"peak-rpm\", y=\"price\", data=df)\n",
        "plt.ylim(0,)"
      ],
      "metadata": {
        "colab": {
          "base_uri": "https://localhost:8080/",
          "height": 623
        },
        "id": "Ns6OF1UoHiL2",
        "outputId": "347e5474-b01b-4256-d2c2-138e1031bb43"
      },
      "execution_count": 36,
      "outputs": [
        {
          "output_type": "execute_result",
          "data": {
            "text/plain": [
              "(0.0, 47414.1)"
            ]
          },
          "metadata": {},
          "execution_count": 36
        },
        {
          "output_type": "display_data",
          "data": {
            "text/plain": [
              "<Figure size 864x720 with 1 Axes>"
            ],
            "image/png": "[encoded data removed]"
          },
          "metadata": {
            "needs_background": "light"
          }
        }
      ]
    },
    {
      "cell_type": "markdown",
      "source": [
        "Al comparar máximas revoluciones por minuto vs el precio vemos que no hay mucha correlación, puesto que la línea recta tiende a ser una constante (línea horizontal), también existe mucha dispersión en los datos como para realmente hallar o determinar una correlación. "
      ],
      "metadata": {
        "id": "Cb45hyggH4iO"
      }
    },
    {
      "cell_type": "code",
      "source": [
        "df[['peak-rpm','highway-mpg','price']].corr()*100 # Checando correlación entre las variables de manera porcentual %"
      ],
      "metadata": {
        "colab": {
          "base_uri": "https://localhost:8080/",
          "height": 143
        },
        "id": "ujiePdbnH1lD",
        "outputId": "972c05a8-d249-4cb4-bfa2-32e7d7c3da49"
      },
      "execution_count": 37,
      "outputs": [
        {
          "output_type": "execute_result",
          "data": {
            "text/plain": [
              "               peak-rpm  highway-mpg       price\n",
              "peak-rpm     100.000000    -5.859759  -10.161587\n",
              "highway-mpg   -5.859759   100.000000  -70.469227\n",
              "price        -10.161587   -70.469227  100.000000"
            ],
            "text/html": [
              "\n",
              "  <div id=\"df-a1abbf5d-3ae2-4fc7-82e6-b3880bde2490\">\n",
              "    <div class=\"colab-df-container\">\n",
              "      <div>\n",
              "<style scoped>\n",
              "    .dataframe tbody tr th:only-of-type {\n",
              "        vertical-align: middle;\n",
              "    }\n",
              "\n",
              "    .dataframe tbody tr th {\n",
              "        vertical-align: top;\n",
              "    }\n",
              "\n",
              "    .dataframe thead th {\n",
              "        text-align: right;\n",
              "    }\n",
              "</style>\n",
              "<table border=\"1\" class=\"dataframe\">\n",
              "  <thead>\n",
              "    <tr style=\"text-align: right;\">\n",
              "      <th></th>\n",
              "      <th>peak-rpm</th>\n",
              "      <th>highway-mpg</th>\n",
              "      <th>price</th>\n",
              "    </tr>\n",
              "  </thead>\n",
              "  <tbody>\n",
              "    <tr>\n",
              "      <th>peak-rpm</th>\n",
              "      <td>100.000000</td>\n",
              "      <td>-5.859759</td>\n",
              "      <td>-10.161587</td>\n",
              "    </tr>\n",
              "    <tr>\n",
              "      <th>highway-mpg</th>\n",
              "      <td>-5.859759</td>\n",
              "      <td>100.000000</td>\n",
              "      <td>-70.469227</td>\n",
              "    </tr>\n",
              "    <tr>\n",
              "      <th>price</th>\n",
              "      <td>-10.161587</td>\n",
              "      <td>-70.469227</td>\n",
              "      <td>100.000000</td>\n",
              "    </tr>\n",
              "  </tbody>\n",
              "</table>\n",
              "</div>\n",
              "      <button class=\"colab-df-convert\" onclick=\"convertToInteractive('df-a1abbf5d-3ae2-4fc7-82e6-b3880bde2490')\"\n",
              "              title=\"Convert this dataframe to an interactive table.\"\n",
              "              style=\"display:none;\">\n",
              "        \n",
              "  <svg xmlns=\"http://www.w3.org/2000/svg\" height=\"24px\"viewBox=\"0 0 24 24\"\n",
              "       width=\"24px\">\n",
              "    <path d=\"M0 0h24v24H0V0z\" fill=\"none\"/>\n",
              "    <path d=\"M18.56 5.44l.94 2.06.94-2.06 2.06-.94-2.06-.94-.94-2.06-.94 2.06-2.06.94zm-11 1L8.5 8.5l.94-2.06 2.06-.94-2.06-.94L8.5 2.5l-.94 2.06-2.06.94zm10 10l.94 2.06.94-2.06 2.06-.94-2.06-.94-.94-2.06-.94 2.06-2.06.94z\"/><path d=\"M17.41 7.96l-1.37-1.37c-.4-.4-.92-.59-1.43-.59-.52 0-1.04.2-1.43.59L10.3 9.45l-7.72 7.72c-.78.78-.78 2.05 0 2.83L4 21.41c.39.39.9.59 1.41.59.51 0 1.02-.2 1.41-.59l7.78-7.78 2.81-2.81c.8-.78.8-2.07 0-2.86zM5.41 20L4 18.59l7.72-7.72 1.47 1.35L5.41 20z\"/>\n",
              "  </svg>\n",
              "      </button>\n",
              "      \n",
              "  <style>\n",
              "    .colab-df-container {\n",
              "      display:flex;\n",
              "      flex-wrap:wrap;\n",
              "      gap: 12px;\n",
              "    }\n",
              "\n",
              "    .colab-df-convert {\n",
              "      background-color: #E8F0FE;\n",
              "      border: none;\n",
              "      border-radius: 50%;\n",
              "      cursor: pointer;\n",
              "      display: none;\n",
              "      fill: #1967D2;\n",
              "      height: 32px;\n",
              "      padding: 0 0 0 0;\n",
              "      width: 32px;\n",
              "    }\n",
              "\n",
              "    .colab-df-convert:hover {\n",
              "      background-color: #E2EBFA;\n",
              "      box-shadow: 0px 1px 2px rgba(60, 64, 67, 0.3), 0px 1px 3px 1px rgba(60, 64, 67, 0.15);\n",
              "      fill: #174EA6;\n",
              "    }\n",
              "\n",
              "    [theme=dark] .colab-df-convert {\n",
              "      background-color: #3B4455;\n",
              "      fill: #D2E3FC;\n",
              "    }\n",
              "\n",
              "    [theme=dark] .colab-df-convert:hover {\n",
              "      background-color: #434B5C;\n",
              "      box-shadow: 0px 1px 3px 1px rgba(0, 0, 0, 0.15);\n",
              "      filter: drop-shadow(0px 1px 2px rgba(0, 0, 0, 0.3));\n",
              "      fill: #FFFFFF;\n",
              "    }\n",
              "  </style>\n",
              "\n",
              "      <script>\n",
              "        const buttonEl =\n",
              "          document.querySelector('#df-a1abbf5d-3ae2-4fc7-82e6-b3880bde2490 button.colab-df-convert');\n",
              "        buttonEl.style.display =\n",
              "          google.colab.kernel.accessAllowed ? 'block' : 'none';\n",
              "\n",
              "        async function convertToInteractive(key) {\n",
              "          const element = document.querySelector('#df-a1abbf5d-3ae2-4fc7-82e6-b3880bde2490');\n",
              "          const dataTable =\n",
              "            await google.colab.kernel.invokeFunction('convertToInteractive',\n",
              "                                                     [key], {});\n",
              "          if (!dataTable) return;\n",
              "\n",
              "          const docLinkHtml = 'Like what you see? Visit the ' +\n",
              "            '<a target=\"_blank\" href=https://colab.research.google.com/notebooks/data_table.ipynb>data table notebook</a>'\n",
              "            + ' to learn more about interactive tables.';\n",
              "          element.innerHTML = '';\n",
              "          dataTable['output_type'] = 'display_data';\n",
              "          await google.colab.output.renderOutput(dataTable, element);\n",
              "          const docLink = document.createElement('div');\n",
              "          docLink.innerHTML = docLinkHtml;\n",
              "          element.appendChild(docLink);\n",
              "        }\n",
              "      </script>\n",
              "    </div>\n",
              "  </div>\n",
              "  "
            ]
          },
          "metadata": {},
          "execution_count": 37
        }
      ]
    },
    {
      "cell_type": "markdown",
      "source": [
        "Se puede apreciar que la correlación más alta es de tipo negativo y es entre el precio y las millas de carretera por galón que equivalen a un 70% de conexión entre ambas variables, mientras que las revoluciones por minuto máximas apenas predicen el 10% del precio. "
      ],
      "metadata": {
        "id": "lvXuMV1DJDsK"
      }
    },
    {
      "cell_type": "code",
      "source": [
        "width = 12\n",
        "height = 10\n",
        "plt.figure(figsize=(width, height))\n",
        "sns.residplot(x=df['highway-mpg'],y=df['price'])\n",
        "plt.show()"
      ],
      "metadata": {
        "colab": {
          "base_uri": "https://localhost:8080/",
          "height": 606
        },
        "id": "O4I9qd50JC5a",
        "outputId": "757b373f-b6de-40aa-e1ff-1b533e589d8c"
      },
      "execution_count": 38,
      "outputs": [
        {
          "output_type": "display_data",
          "data": {
            "text/plain": [
              "<Figure size 864x720 with 1 Axes>"
            ],
            "image/png": "[encoded data removed]"
          },
          "metadata": {
            "needs_background": "light"
          }
        }
      ]
    },
    {
      "cell_type": "markdown",
      "source": [
        "La gráfica de residuos muestra que los residuos no se distribuyen aleatoriamente alrededor del eje $x$, se concluye que es mejor implementar un modelo no lineal para estos datos."
      ],
      "metadata": {
        "id": "k1bmbdePKQUd"
      }
    },
    {
      "cell_type": "markdown",
      "source": [
        "Para realizar gráficos de regresiones lineales múltiples se debe de implementar un trazo de distribución puesto que al tener varias dimensiones es más complicado visualizar los datos. Se observa la distribución de los valores ajustados que resultan del modelo y se compara con la distribución de los valores reales."
      ],
      "metadata": {
        "id": "LCcHYY9qNiWg"
      }
    },
    {
      "cell_type": "code",
      "source": [
        "Y_hat = Reg_Lineal.predict(Z)"
      ],
      "metadata": {
        "id": "M-j4kypKHC7b"
      },
      "execution_count": 40,
      "outputs": []
    },
    {
      "cell_type": "code",
      "source": [
        "import warnings\n",
        "warnings.filterwarnings(\"ignore\")\n",
        "\n",
        "plt.figure(figsize=(width, height))\n",
        "\n",
        "\n",
        "ax1 = sns.distplot(df['price'], hist=False, color=\"r\", label=\"Actual Value\")\n",
        "sns.distplot(Y_hat, hist=False, color=\"b\", label=\"Fitted Values\" , ax=ax1)\n",
        "\n",
        "\n",
        "plt.title('Actual vs Fitted Values for Price')\n",
        "plt.xlabel('Price (in dollars)')\n",
        "plt.ylabel('Proportion of Cars')\n",
        "\n",
        "plt.show()\n",
        "plt.close()"
      ],
      "metadata": {
        "colab": {
          "base_uri": "https://localhost:8080/",
          "height": 621
        },
        "id": "D2CEHLsVOgie",
        "outputId": "f5f1f6ec-9c16-4adc-ce15-78d576142ffa"
      },
      "execution_count": 43,
      "outputs": [
        {
          "output_type": "display_data",
          "data": {
            "text/plain": [
              "<Figure size 864x720 with 1 Axes>"
            ],
            "image/png": "[encoded data removed]"
          },
          "metadata": {
            "needs_background": "light"
          }
        }
      ]
    },
    {
      "cell_type": "markdown",
      "source": [
        "Se puede analizar que la distribución del modelo predictivo casi se ajusta a la de los valores reales, entonces podemos confiar en la fiabilidad del modelo de predicción. "
      ],
      "metadata": {
        "id": "3qb3_NOyO75j"
      }
    },
    {
      "cell_type": "code",
      "source": [
        "def PlotPolly(model, independent_variable, dependent_variabble, Name):\n",
        "    x_new = np.linspace(15, 55, 100)\n",
        "    y_new = model(x_new)\n",
        "\n",
        "    plt.plot(independent_variable, dependent_variabble, '.', x_new, y_new, '-')\n",
        "    plt.title('Polynomial Fit with Matplotlib for Price ~ Length')\n",
        "    ax = plt.gca()\n",
        "    ax.set_facecolor((0.898, 0.898, 0.898))\n",
        "    fig = plt.gcf()\n",
        "    plt.xlabel(Name)\n",
        "    plt.ylabel('Price of Cars')\n",
        "\n",
        "    plt.show()\n",
        "    plt.close()"
      ],
      "metadata": {
        "id": "aLnQDUtwOnG_"
      },
      "execution_count": 52,
      "outputs": []
    },
    {
      "cell_type": "code",
      "source": [
        "x = df['highway-mpg']\n",
        "y = df['price']"
      ],
      "metadata": {
        "id": "Bvoi68fLQBMA"
      },
      "execution_count": 53,
      "outputs": []
    },
    {
      "cell_type": "code",
      "source": [
        "f = np.polyfit(x, y, 3)\n",
        "p = np.poly1d(f)\n",
        "print(p)"
      ],
      "metadata": {
        "colab": {
          "base_uri": "https://localhost:8080/"
        },
        "id": "-1RQz4QaQHXp",
        "outputId": "3f6e9af3-4ab2-4dc2-abee-3995847d29da"
      },
      "execution_count": 64,
      "outputs": [
        {
          "output_type": "stream",
          "name": "stdout",
          "text": [
            "        3         2\n",
            "-1.557 x + 204.8 x - 8965 x + 1.379e+05\n"
          ]
        }
      ]
    },
    {
      "cell_type": "code",
      "source": [
        "PlotPolly(p, x, y, 'highway-mpg')"
      ],
      "metadata": {
        "colab": {
          "base_uri": "https://localhost:8080/",
          "height": 295
        },
        "id": "xHIxmMpZQPwM",
        "outputId": "f22bb62b-915e-4a71-fe84-19f6d33aa0f5"
      },
      "execution_count": 63,
      "outputs": [
        {
          "output_type": "display_data",
          "data": {
            "text/plain": [
              "<Figure size 432x288 with 1 Axes>"
            ],
            "image/png": "[encoded data removed]"
          },
          "metadata": {
            "needs_background": "light"
          }
        }
      ]
    },
    {
      "cell_type": "code",
      "source": [
        "f1 = np.polyfit(x, y, 11)\n",
        "p1 = np.poly1d(f1)\n",
        "print(p1)\n",
        "PlotPolly(p1,x,y, 'Highway MPG')"
      ],
      "metadata": {
        "colab": {
          "base_uri": "https://localhost:8080/",
          "height": 364
        },
        "id": "aWK4EfnVQTzk",
        "outputId": "f8a92804-61a4-43ef-f325-eca870bac911"
      },
      "execution_count": 67,
      "outputs": [
        {
          "output_type": "stream",
          "name": "stdout",
          "text": [
            "            11             10             9           8         7\n",
            "-1.243e-08 x  + 4.722e-06 x  - 0.0008028 x + 0.08056 x - 5.297 x\n",
            "          6        5             4             3             2\n",
            " + 239.5 x - 7588 x + 1.684e+05 x - 2.565e+06 x + 2.551e+07 x - 1.491e+08 x + 3.879e+08\n"
          ]
        },
        {
          "output_type": "display_data",
          "data": {
            "text/plain": [
              "<Figure size 432x288 with 1 Axes>"
            ],
            "image/png": "[encoded data removed]"
          },
          "metadata": {
            "needs_background": "light"
          }
        }
      ]
    },
    {
      "cell_type": "code",
      "source": [
        "from sklearn.preprocessing import PolynomialFeatures"
      ],
      "metadata": {
        "id": "b8UEwuvvRzxP"
      },
      "execution_count": 68,
      "outputs": []
    },
    {
      "cell_type": "code",
      "source": [
        "pr=PolynomialFeatures(degree=2)\n",
        "pr"
      ],
      "metadata": {
        "colab": {
          "base_uri": "https://localhost:8080/"
        },
        "id": "t5jHDaQOSJoO",
        "outputId": "dffe0571-f301-4fa7-e580-8ae0426cb7be"
      },
      "execution_count": 69,
      "outputs": [
        {
          "output_type": "execute_result",
          "data": {
            "text/plain": [
              "PolynomialFeatures()"
            ]
          },
          "metadata": {},
          "execution_count": 69
        }
      ]
    },
    {
      "cell_type": "code",
      "source": [
        "Z_pr=pr.fit_transform(Z)"
      ],
      "metadata": {
        "id": "Q0C1yxLISMVP"
      },
      "execution_count": 70,
      "outputs": []
    },
    {
      "cell_type": "code",
      "source": [
        "Z.shape"
      ],
      "metadata": {
        "colab": {
          "base_uri": "https://localhost:8080/"
        },
        "id": "HuIyMq3qSQEU",
        "outputId": "8e363cf9-11b5-4199-ce0e-2612a964edc7"
      },
      "execution_count": 71,
      "outputs": [
        {
          "output_type": "execute_result",
          "data": {
            "text/plain": [
              "(201, 4)"
            ]
          },
          "metadata": {},
          "execution_count": 71
        }
      ]
    },
    {
      "cell_type": "code",
      "source": [
        "Z_pr.shape"
      ],
      "metadata": {
        "colab": {
          "base_uri": "https://localhost:8080/"
        },
        "id": "yAc4ft_NSTdI",
        "outputId": "49630b40-32ea-4847-b7bb-41bb6dbbfce8"
      },
      "execution_count": 72,
      "outputs": [
        {
          "output_type": "execute_result",
          "data": {
            "text/plain": [
              "(201, 15)"
            ]
          },
          "metadata": {},
          "execution_count": 72
        }
      ]
    },
    {
      "cell_type": "markdown",
      "source": [
        "La Pipelines simplifican los pasos para procesar los datos. Se usa el módulo Pipeline para crear un pipeline. También StandardScaler como un paso en la canalización."
      ],
      "metadata": {
        "id": "9LVghOLMSj_I"
      }
    },
    {
      "cell_type": "code",
      "source": [
        "from sklearn.pipeline import Pipeline\n",
        "from sklearn.preprocessing import StandardScaler"
      ],
      "metadata": {
        "id": "Fqy6gUc8SVNf"
      },
      "execution_count": 73,
      "outputs": []
    },
    {
      "cell_type": "code",
      "source": [
        "Input=[('scale',StandardScaler()), ('polynomial', PolynomialFeatures(include_bias=False)), ('model',LinearRegression())]\n",
        " # Se crea una lista de tuplas que incluyen el nombre del modelo y su constructor"
      ],
      "metadata": {
        "id": "gIJBplbATxfl"
      },
      "execution_count": 74,
      "outputs": []
    },
    {
      "cell_type": "markdown",
      "source": [
        "Recordemos que la estandarización es análogo a la normalización de los datos para escalarlos y manejarlos.\n",
        "\n",
        "$z = \\frac{(x-\\mu)}{\\sigma}$"
      ],
      "metadata": {
        "id": "wa53VUjxT9zP"
      }
    },
    {
      "cell_type": "markdown",
      "source": [
        "Las pipelines hacen una serie secuencial de transformaciones, el último hace la predicción. "
      ],
      "metadata": {
        "id": "O7EdHWVcX0My"
      }
    },
    {
      "cell_type": "code",
      "source": [
        "pipe=Pipeline(Input)\n",
        "pipe"
      ],
      "metadata": {
        "colab": {
          "base_uri": "https://localhost:8080/"
        },
        "id": "6-Vi1hobT8gJ",
        "outputId": "91f5042a-0a97-4387-a5bb-312ac8acf00c"
      },
      "execution_count": 75,
      "outputs": [
        {
          "output_type": "execute_result",
          "data": {
            "text/plain": [
              "Pipeline(steps=[('scale', StandardScaler()),\n",
              "                ('polynomial', PolynomialFeatures(include_bias=False)),\n",
              "                ('model', LinearRegression())])"
            ]
          },
          "metadata": {},
          "execution_count": 75
        }
      ]
    },
    {
      "cell_type": "code",
      "source": [
        "Z = Z.astype(float)\n",
        "pipe.fit(Z,y)"
      ],
      "metadata": {
        "colab": {
          "base_uri": "https://localhost:8080/"
        },
        "id": "asAmMk0XVY3a",
        "outputId": "bde70c4b-c8e7-4d49-d7f6-2706c37c9ef4"
      },
      "execution_count": 76,
      "outputs": [
        {
          "output_type": "execute_result",
          "data": {
            "text/plain": [
              "Pipeline(steps=[('scale', StandardScaler()),\n",
              "                ('polynomial', PolynomialFeatures(include_bias=False)),\n",
              "                ('model', LinearRegression())])"
            ]
          },
          "metadata": {},
          "execution_count": 76
        }
      ]
    },
    {
      "cell_type": "code",
      "source": [
        "ypipe=pipe.predict(Z)\n",
        "ypipe[0:4]"
      ],
      "metadata": {
        "colab": {
          "base_uri": "https://localhost:8080/"
        },
        "id": "bhwvgJkAYhIo",
        "outputId": "e57e5cf0-66bf-4c2c-d978-e4c5e24fe228"
      },
      "execution_count": 77,
      "outputs": [
        {
          "output_type": "execute_result",
          "data": {
            "text/plain": [
              "array([13102.74784201, 13102.74784201, 18225.54572197, 10390.29636555])"
            ]
          },
          "metadata": {},
          "execution_count": 77
        }
      ]
    },
    {
      "cell_type": "code",
      "source": [
        "pip = Pipeline([('standardization', StandardScaler()),('LR',LinearRegression())])\n",
        "pip.fit(Z,y)\n",
        "ypip=pip.predict(Z)\n",
        "ypip[0:10]"
      ],
      "metadata": {
        "colab": {
          "base_uri": "https://localhost:8080/"
        },
        "id": "Bt1T9d2mYjHW",
        "outputId": "c3cc9857-4a26-4cbc-b1be-ba086152466c"
      },
      "execution_count": 78,
      "outputs": [
        {
          "output_type": "execute_result",
          "data": {
            "text/plain": [
              "array([13699.11161184, 13699.11161184, 19051.65470233, 10620.36193015,\n",
              "       15521.31420211, 13869.66673213, 15456.16196732, 15974.00907672,\n",
              "       17612.35917161, 10722.32509097])"
            ]
          },
          "metadata": {},
          "execution_count": 78
        }
      ]
    },
    {
      "cell_type": "code",
      "source": [
        "Reg_Lineal.fit(X, Y)\n",
        "#R^2\n",
        "print('The R-square is: ', Reg_Lineal.score(X, Y))"
      ],
      "metadata": {
        "colab": {
          "base_uri": "https://localhost:8080/"
        },
        "id": "mV5jSQmLZqsp",
        "outputId": "b5b49997-b4e0-4fae-ada6-454d8ca319f4"
      },
      "execution_count": 81,
      "outputs": [
        {
          "output_type": "stream",
          "name": "stdout",
          "text": [
            "The R-square is:  0.4965911884339176\n"
          ]
        }
      ]
    },
    {
      "cell_type": "code",
      "source": [
        "Yhat=Reg_Lineal.predict(X)\n",
        "print('The output of the first four predicted value is: ', Yhat[0:4])"
      ],
      "metadata": {
        "colab": {
          "base_uri": "https://localhost:8080/"
        },
        "id": "Ea8DkI7zZxaD",
        "outputId": "85343716-ffac-4368-e4a1-f069fca6d2ad"
      },
      "execution_count": 82,
      "outputs": [
        {
          "output_type": "stream",
          "name": "stdout",
          "text": [
            "The output of the first four predicted value is:  [16236.50464347 16236.50464347 17058.23802179 13771.3045085 ]\n"
          ]
        }
      ]
    },
    {
      "cell_type": "code",
      "source": [
        "from sklearn.metrics import mean_squared_error"
      ],
      "metadata": {
        "id": "Rns4RZLrZ_UK"
      },
      "execution_count": 83,
      "outputs": []
    },
    {
      "cell_type": "code",
      "source": [
        "mse = mean_squared_error(df['price'], Yhat)\n",
        "print('The mean square error of price and predicted value is: ', mse)"
      ],
      "metadata": {
        "colab": {
          "base_uri": "https://localhost:8080/"
        },
        "id": "00PSSFk4aEkw",
        "outputId": "60cdad16-bb68-452b-b8fd-e2b603fe9362"
      },
      "execution_count": 84,
      "outputs": [
        {
          "output_type": "stream",
          "name": "stdout",
          "text": [
            "The mean square error of price and predicted value is:  31635042.944639888\n"
          ]
        }
      ]
    },
    {
      "cell_type": "code",
      "source": [
        "Reg_Lineal.fit(Z, df['price'])\n",
        "# Find the R^2\n",
        "print('The R-square is: ', Reg_Lineal.score(Z, df['price']))"
      ],
      "metadata": {
        "colab": {
          "base_uri": "https://localhost:8080/"
        },
        "id": "TxKBx6TTaHsi",
        "outputId": "92a0f235-65f3-4f9c-c7e1-8387b7605248"
      },
      "execution_count": 85,
      "outputs": [
        {
          "output_type": "stream",
          "name": "stdout",
          "text": [
            "The R-square is:  0.8093562806577457\n"
          ]
        }
      ]
    },
    {
      "cell_type": "code",
      "source": [
        "Y_predict_multifit = Reg_Lineal.predict(Z)"
      ],
      "metadata": {
        "id": "QNvXnHb3adqt"
      },
      "execution_count": 86,
      "outputs": []
    },
    {
      "cell_type": "code",
      "source": [
        "print('The mean square error of price and predicted value using multifit is: ', \\\n",
        "      mean_squared_error(df['price'], Y_predict_multifit))"
      ],
      "metadata": {
        "colab": {
          "base_uri": "https://localhost:8080/"
        },
        "id": "Zoww6ppNah-V",
        "outputId": "638a29c1-dddb-4bdc-c719-54c448e6e281"
      },
      "execution_count": 87,
      "outputs": [
        {
          "output_type": "stream",
          "name": "stdout",
          "text": [
            "The mean square error of price and predicted value using multifit is:  11980366.87072649\n"
          ]
        }
      ]
    },
    {
      "cell_type": "code",
      "source": [
        "from sklearn.metrics import r2_score"
      ],
      "metadata": {
        "id": "7ozW92KLakIQ"
      },
      "execution_count": 88,
      "outputs": []
    },
    {
      "cell_type": "code",
      "source": [
        "r_squared = r2_score(y, p(x))\n",
        "print('The R-square value is: ', r_squared)"
      ],
      "metadata": {
        "colab": {
          "base_uri": "https://localhost:8080/"
        },
        "id": "aeW3O4Kram-q",
        "outputId": "5ca5374b-3749-4d01-e990-840bea0a6a9f"
      },
      "execution_count": 89,
      "outputs": [
        {
          "output_type": "stream",
          "name": "stdout",
          "text": [
            "The R-square value is:  0.674194666390652\n"
          ]
        }
      ]
    },
    {
      "cell_type": "code",
      "source": [
        "mean_squared_error(df['price'], p(x))"
      ],
      "metadata": {
        "colab": {
          "base_uri": "https://localhost:8080/"
        },
        "id": "UQnpI-bJavlV",
        "outputId": "f98c0333-aefb-4cc5-867a-59ca733ce3f6"
      },
      "execution_count": 90,
      "outputs": [
        {
          "output_type": "execute_result",
          "data": {
            "text/plain": [
              "20474146.426361218"
            ]
          },
          "metadata": {},
          "execution_count": 90
        }
      ]
    },
    {
      "cell_type": "code",
      "source": [
        "import matplotlib.pyplot as plt\n",
        "import numpy as np\n",
        "\n",
        "%matplotlib inline "
      ],
      "metadata": {
        "id": "uZgw_jwjayLx"
      },
      "execution_count": 91,
      "outputs": []
    },
    {
      "cell_type": "code",
      "source": [
        "new_input=np.arange(1, 100, 1).reshape(-1, 1)"
      ],
      "metadata": {
        "id": "dR156Waza0er"
      },
      "execution_count": 92,
      "outputs": []
    },
    {
      "cell_type": "code",
      "source": [
        "Reg_Lineal.fit(X, Y)\n",
        "Reg_Lineal"
      ],
      "metadata": {
        "colab": {
          "base_uri": "https://localhost:8080/"
        },
        "id": "FQ3pW5yRa2D7",
        "outputId": "9059dbf5-0e5a-4fac-a27a-c4ad9742a7ac"
      },
      "execution_count": 93,
      "outputs": [
        {
          "output_type": "execute_result",
          "data": {
            "text/plain": [
              "LinearRegression()"
            ]
          },
          "metadata": {},
          "execution_count": 93
        }
      ]
    },
    {
      "cell_type": "code",
      "source": [
        "yhat=Reg_Lineal.predict(new_input)\n",
        "yhat[0:5]"
      ],
      "metadata": {
        "colab": {
          "base_uri": "https://localhost:8080/"
        },
        "id": "9nlZetd3a8Ms",
        "outputId": "510c14a9-fa46-4dc5-d832-8b8ce7d4aad3"
      },
      "execution_count": 94,
      "outputs": [
        {
          "output_type": "execute_result",
          "data": {
            "text/plain": [
              "array([37601.57247984, 36779.83910151, 35958.10572319, 35136.37234487,\n",
              "       34314.63896655])"
            ]
          },
          "metadata": {},
          "execution_count": 94
        }
      ]
    },
    {
      "cell_type": "code",
      "source": [
        "plt.plot(new_input, yhat)\n",
        "plt.show()"
      ],
      "metadata": {
        "colab": {
          "base_uri": "https://localhost:8080/",
          "height": 265
        },
        "id": "Or8SLJzza_WT",
        "outputId": "7a15d14e-5a87-46d4-819b-dee74e393315"
      },
      "execution_count": 95,
      "outputs": [
        {
          "output_type": "display_data",
          "data": {
            "text/plain": [
              "<Figure size 432x288 with 1 Axes>"
            ],
            "image/png": "[encoded data removed]"
          },
          "metadata": {
            "needs_background": "light"
          }
        }
      ]
    },
    {
      "cell_type": "markdown",
      "source": [
        "#Evidencias"
      ],
      "metadata": {
        "id": "FGOuxTP1fXJ2"
      }
    },
    {
      "cell_type": "markdown",
      "source": [
        "![image.png](data:image/png;base64,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)"
      ],
      "metadata": {
        "id": "KbNtNvO4fZP_"
      }
    },
    {
      "cell_type": "markdown",
      "source": [
        "![image.png](data:image/png;base64,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)"
      ],
      "metadata": {
        "id": "4AlLE1clfaWg"
      }
    }
  ]
}