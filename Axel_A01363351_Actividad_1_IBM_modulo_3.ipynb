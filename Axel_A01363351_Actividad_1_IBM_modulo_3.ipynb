{
  "nbformat": 4,
  "nbformat_minor": 0,
  "metadata": {
    "colab": {
      "provenance": []
    },
    "kernelspec": {
      "name": "python3",
      "display_name": "Python 3"
    },
    "language_info": {
      "name": "python"
    }
  },
  "cells": [
    {
      "cell_type": "markdown",
      "source": [
        "##Módulo 3"
      ],
      "metadata": {
        "id": "TWGuLKg3StBQ"
      }
    },
    {
      "cell_type": "markdown",
      "source": [
        "# Condicionales y Ramas"
      ],
      "metadata": {
        "id": "oxQCyl7VSw0Y"
      }
    },
    {
      "cell_type": "markdown",
      "source": [
        "Las operaciones que involucran comparación buscan comparar algún valor u operando, y luego, basado en una condición estás producen una respuesta Booleana. \n",
        "\n",
        "Un ejemplo es asignar a una variable $$x = 6$$\n",
        "Para comparar resultado se utiliza el doble igual, con esto podríamos preguntar si dicho valor asignado dentro de la variable es igual a cierta cantidad: $$x==7$$\n",
        "Si la variable en cuestión fuera igual, se produciría un **True** como resultado, pero como 6 es diferente a 7 entonces la salida es un **False**."
      ],
      "metadata": {
        "id": "umVhM6NRS_99"
      }
    },
    {
      "cell_type": "code",
      "source": [
        "x = 6\n",
        "x == 7"
      ],
      "metadata": {
        "colab": {
          "base_uri": "https://localhost:8080/"
        },
        "id": "rLJqA3WzJhIy",
        "outputId": "8408a27f-a000-4575-8ad7-12dd71ad2783"
      },
      "execution_count": null,
      "outputs": [
        {
          "output_type": "execute_result",
          "data": {
            "text/plain": [
              "False"
            ]
          },
          "metadata": {},
          "execution_count": 1
        }
      ]
    },
    {
      "cell_type": "markdown",
      "source": [
        "Otro ejemplo es si la variable *i* es mayor que cierta cantidad $$i>5$$\n",
        "En este caso mientras todas las asignaciones que hagamos superen a la cantidad 5, esto se cumplirá y la salida será un **True**."
      ],
      "metadata": {
        "id": "7qpkbSbuKIOz"
      }
    },
    {
      "cell_type": "code",
      "source": [
        "i = 7\n",
        "i > 5"
      ],
      "metadata": {
        "colab": {
          "base_uri": "https://localhost:8080/"
        },
        "id": "mIbRFGyWJ9RS",
        "outputId": "ae5af009-89c4-4d8e-f433-05dd718ce114"
      },
      "execution_count": null,
      "outputs": [
        {
          "output_type": "execute_result",
          "data": {
            "text/plain": [
              "True"
            ]
          },
          "metadata": {},
          "execution_count": 2
        }
      ]
    },
    {
      "cell_type": "markdown",
      "source": [
        "Dichas condiciones se pueden aplicar en variables de tipo flotantes, para comparar si una cantidad mayor o igual que otra se utiliza el símbolo **>=**. De igual manera se puede cambiar el operador de comparación mediante **<** o **<=**\n",
        "$$j \\leq 7$$"
      ],
      "metadata": {
        "id": "2GKMCBLMKp2U"
      }
    },
    {
      "cell_type": "code",
      "source": [
        "j = 8\n",
        "j <= 7"
      ],
      "metadata": {
        "colab": {
          "base_uri": "https://localhost:8080/"
        },
        "id": "S4eH7AlzLdZ_",
        "outputId": "f1594449-ccaf-4107-e919-7015357dd4df"
      },
      "execution_count": null,
      "outputs": [
        {
          "output_type": "execute_result",
          "data": {
            "text/plain": [
              "False"
            ]
          },
          "metadata": {},
          "execution_count": 5
        }
      ]
    },
    {
      "cell_type": "markdown",
      "source": [
        "La desigualdad se expresa mediante el símbolo **!=** \n",
        "$$a \\neq 10$$\n",
        "Si dos operandos no son iguales, entonces la condición se vuelve veradera. "
      ],
      "metadata": {
        "id": "eqOf1LxdL4v_"
      }
    },
    {
      "cell_type": "code",
      "source": [
        "b = 6\n",
        "b != 9"
      ],
      "metadata": {
        "colab": {
          "base_uri": "https://localhost:8080/"
        },
        "id": "ftockHPWNDw8",
        "outputId": "5223bb05-d7f2-4d7d-a500-89dda8e988e7"
      },
      "execution_count": null,
      "outputs": [
        {
          "output_type": "execute_result",
          "data": {
            "text/plain": [
              "True"
            ]
          },
          "metadata": {},
          "execution_count": 6
        }
      ]
    },
    {
      "cell_type": "markdown",
      "source": [
        "De igual forma se pueden comparar variables tipo strings:"
      ],
      "metadata": {
        "id": "DXF_N2pwP9P-"
      }
    },
    {
      "cell_type": "code",
      "source": [
        "'AC/DC' == 'Michael Jackson'"
      ],
      "metadata": {
        "colab": {
          "base_uri": "https://localhost:8080/"
        },
        "id": "tzIHto-DQE8D",
        "outputId": "a00e9d46-415c-474e-e734-978dc6d4817e"
      },
      "execution_count": null,
      "outputs": [
        {
          "output_type": "execute_result",
          "data": {
            "text/plain": [
              "False"
            ]
          },
          "metadata": {},
          "execution_count": 7
        }
      ]
    },
    {
      "cell_type": "code",
      "source": [
        "'AC/DC' != 'Michael Jackson'"
      ],
      "metadata": {
        "colab": {
          "base_uri": "https://localhost:8080/"
        },
        "id": "TuqeN4vKQKct",
        "outputId": "19652cae-3d64-4c54-fb32-56bcbc7b420f"
      },
      "execution_count": null,
      "outputs": [
        {
          "output_type": "execute_result",
          "data": {
            "text/plain": [
              "True"
            ]
          },
          "metadata": {},
          "execution_count": 8
        }
      ]
    },
    {
      "cell_type": "markdown",
      "source": [
        "Branching nos deja correr diferentes declaraciones para entradas diferentes.\n",
        "\n",
        "**if** es una declaración que se puede utilizar para realizar selectivamente un fragmento de código, es comúnmente usado para comparar acciones, si una acción es verdadera, entonces se ejecuta una parte del código, de lo contrario vuelve al inicio o ejecuta otra secuencia. Es útil la analogía del cuarto cerrado, si la declaración es verdadera se entra al cuarto, sino el programa se salta la tarea.\n",
        "\n",
        "Para esto se utiliza la declaración **else** que es básicamente añadir otra expresión para ejecutarla, en caso que la declaración inicial del ciclo **if** no sea ejecutada.\n",
        "\n",
        "Dicha ramificación tiene la siguiente estructura:"
      ],
      "metadata": {
        "id": "4mf-KcZJQxFD"
      }
    },
    {
      "cell_type": "code",
      "source": [
        "age = 17\n",
        "if age > 18: #situación en un antro\n",
        "  print('Puedes pasar al antro')\n",
        "else:\n",
        "  print('Sólo puedes pasar al restaurante')\n",
        "print('¡Adelante!')\n"
      ],
      "metadata": {
        "colab": {
          "base_uri": "https://localhost:8080/"
        },
        "id": "CmEvPElVQhr6",
        "outputId": "711e9fcc-18ca-44b8-cd9f-ef99da2b0ab0"
      },
      "execution_count": null,
      "outputs": [
        {
          "output_type": "stream",
          "name": "stdout",
          "text": [
            "Sólo puedes pasar al restaurante\n",
            "¡Adelante!\n"
          ]
        }
      ]
    },
    {
      "cell_type": "markdown",
      "source": [
        "También existe el hijo de las declaraciones **else** e **if**, se denomina **elif** el cuál se usa casi de la misma forma que **else**, pero se le puede añadir una condición extra comparativa, es decir, especificamente bajo otra condición puedes validar el argumento aunque **if** lo haya rechazado inicialmente, mientras que **else** simplemente sirve para proceder en todos los demás casos. "
      ],
      "metadata": {
        "id": "xEl1tXbjUCGT"
      }
    },
    {
      "cell_type": "code",
      "source": [
        "# usualmente en la vida real si tienes 18 años cumplidos sí puedes acceder al antro\n",
        "# sin embargo podemos hacer una excepción para antros de alta élite.\n",
        "# en el caso particular de statement elif uno cuando cumple 18 puede entrar pero no consumir en este antro particular"
      ],
      "metadata": {
        "id": "fp91x5A0VAqW"
      },
      "execution_count": null,
      "outputs": []
    },
    {
      "cell_type": "code",
      "source": [
        "age = 18\n",
        "if age > 18: #situación en un antro\n",
        "  print('Puedes pasar al antro')\n",
        "elif age == 18:\n",
        "  print('Puedes pasar al antro pero no consumir alcohol')\n",
        "else:\n",
        "  print('Sólo puedes pasar al restaurante')\n",
        "print('¡Adelante!')"
      ],
      "metadata": {
        "colab": {
          "base_uri": "https://localhost:8080/"
        },
        "id": "oQIHkKfQVZFR",
        "outputId": "7f247d0b-9868-4aa7-e3f7-1767f730362e"
      },
      "execution_count": null,
      "outputs": [
        {
          "output_type": "stream",
          "name": "stdout",
          "text": [
            "Puedes pasar al antro pero no consumir alcohol\n",
            "¡Adelante!\n"
          ]
        }
      ]
    },
    {
      "cell_type": "markdown",
      "source": [
        "**Operaciones lógicas** -  las operaciones lógicas toman valores Booleanos y pdoucen diferentes valores Booleanos en respuesta, el primer operador es **not( )** cuando se usa produce la operación contraria a la entrada, es decir, niega toda salida:\n",
        "$$\\begin{matrix} A & \\bar{A} \\\\ False & True \\\\ True & False \\end{matrix}$$"
      ],
      "metadata": {
        "id": "zflZhx4AV7SN"
      }
    },
    {
      "cell_type": "code",
      "source": [
        "not(True)"
      ],
      "metadata": {
        "colab": {
          "base_uri": "https://localhost:8080/"
        },
        "id": "yyMHGaWcWTiy",
        "outputId": "982df118-4983-45a2-c51c-b4a2dbc47b59"
      },
      "execution_count": null,
      "outputs": [
        {
          "output_type": "execute_result",
          "data": {
            "text/plain": [
              "False"
            ]
          },
          "metadata": {},
          "execution_count": 12
        }
      ]
    },
    {
      "cell_type": "code",
      "source": [
        "not(False)"
      ],
      "metadata": {
        "colab": {
          "base_uri": "https://localhost:8080/"
        },
        "id": "kE4U-AQmWZPE",
        "outputId": "13016208-4083-4359-f97e-4c500ac9d673"
      },
      "execution_count": null,
      "outputs": [
        {
          "output_type": "execute_result",
          "data": {
            "text/plain": [
              "True"
            ]
          },
          "metadata": {},
          "execution_count": 13
        }
      ]
    },
    {
      "cell_type": "markdown",
      "source": [
        "**or( )** u operador de suma lógica, toma dos valores y produce un valor Booleano distinto:\n",
        "\n",
        "\n",
        "$$\\begin{matrix} A & B & A \\ \\lor \\ B \\\\ False & False & False \\\\ False & True & True \\\\ True & False & True \\\\ True & True & True \\end{matrix}$$\n",
        "\n",
        "Esta tabla representa los valores de entrada de dos variables y la salida al pasar por el operador Booleano or.\n"
      ],
      "metadata": {
        "id": "1PXHjqzdWpXq"
      }
    },
    {
      "cell_type": "code",
      "source": [
        "album_year = 1990\n",
        "if album_year < 1980 or(album_year > 1989):\n",
        "  print('El álbum se grabó entre 1970 o 1990')\n",
        "else: \n",
        "  print('El álbum se grabó en 1980')"
      ],
      "metadata": {
        "colab": {
          "base_uri": "https://localhost:8080/"
        },
        "id": "qzR3GhkvgIHV",
        "outputId": "ae030d2b-ac15-4058-c15f-5c27f0735f5e"
      },
      "execution_count": null,
      "outputs": [
        {
          "output_type": "stream",
          "name": "stdout",
          "text": [
            "El álbum se grabó entre 1970 o 1990\n"
          ]
        }
      ]
    },
    {
      "cell_type": "markdown",
      "source": [
        "El operador lógico **and** u operador de intersección se representa por medio del símbolo ampersand & y funciona igual por medio de dos entradas A y B, su tabla difiere a la del operador or:\n",
        "$$\\begin{matrix} A & B & A \\ \\land \\ B \\\\ False & False & False \\\\ False & True & False \\\\ True & False & False \\\\ True & True & True \\end{matrix}$$"
      ],
      "metadata": {
        "id": "cCbd7Yf0gGU1"
      }
    },
    {
      "cell_type": "code",
      "source": [
        "album_year2 = 1983\n",
        "if album_year2 > 1979 & album_year2 < 1990:\n",
        "  print('Este álbum fue grabado en 1980')\n",
        "else: \n",
        "  print('Este álbum se grabó en otra década diferente de 1980')"
      ],
      "metadata": {
        "colab": {
          "base_uri": "https://localhost:8080/"
        },
        "id": "IkAS1HU-iTc7",
        "outputId": "911604a5-5fe1-48f2-828b-65a18bd8749e"
      },
      "execution_count": null,
      "outputs": [
        {
          "output_type": "stream",
          "name": "stdout",
          "text": [
            "Este álbum fue grabado en 1980\n"
          ]
        }
      ]
    },
    {
      "cell_type": "markdown",
      "source": [
        "Evidencia del ejercicios de laboratorio:"
      ],
      "metadata": {
        "id": "g7u0FbBFvwC3"
      }
    },
    {
      "cell_type": "markdown",
      "source": [
        "![image.png](data:image/png;base64,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)"
      ],
      "metadata": {
        "id": "dmp4IWyYyFM4"
      }
    },
    {
      "cell_type": "markdown",
      "source": [
        "# Ciclos"
      ],
      "metadata": {
        "id": "BBtfKUCRyIbT"
      }
    },
    {
      "cell_type": "markdown",
      "source": [
        "La función rango genera como salida una secuencia ordenada en formato de lista con índices *i*.\n",
        "\n",
        "Si la entrada es un entero positivo, la salida es una secuencia, dicha secuencia contendrá el mismo número de elementos que la entrada, pero empezará en cero. \n",
        "\n",
        "Por ejemplo si la entrada es *3* se generará una lista **range(3)** que iniciará en 0 y terminará en 2 → [0,1,2].\n",
        "\n",
        "La función rango puede tener dos entradas, la primera se puede tratar como el inicio y la última como el final de la secuencia. **range(10,15)** la secuencia itera hasta pero no incluyendo el segundo número → [10,11,12,13,14]"
      ],
      "metadata": {
        "id": "xdxRyVBwy5PF"
      }
    },
    {
      "cell_type": "markdown",
      "source": [
        "**Ciclo For** - los ciclos, como su nombre lo indica, manejan tareas repetitivas. "
      ],
      "metadata": {
        "id": "biWvHXFc1NRz"
      }
    },
    {
      "cell_type": "code",
      "source": [
        "squares = ['red','yellow','blue','grey','green','purple','orange']\n",
        "for i in range(0,len(squares)): # también corre con range(len(squares)) Python toma 0 por default como límite inferior\n",
        "  squares[i] = 'white' # se requiere del índice explícitamente en la variable a cambiar para que corra el ciclo.\n",
        "squares"
      ],
      "metadata": {
        "colab": {
          "base_uri": "https://localhost:8080/"
        },
        "id": "zI80olfv2EZc",
        "outputId": "6a177184-6767-458d-8a5e-cc97d5296cf6"
      },
      "execution_count": null,
      "outputs": [
        {
          "output_type": "execute_result",
          "data": {
            "text/plain": [
              "['white', 'white', 'white', 'white', 'white', 'white', 'white']"
            ]
          },
          "metadata": {},
          "execution_count": 35
        }
      ]
    },
    {
      "cell_type": "markdown",
      "source": [
        "El ciclo for toma los índices mediante el uso de una variable la cuál va a estar corriendo a lo largo del proceso, en este caso **i** toma el valor de 0 y compara el string color rojo para luego reescribirlo por blanco, luego se mueve al siguiente índice: 1 y reescribe dicho string por blanco, así sucesivamente."
      ],
      "metadata": {
        "id": "NGAfKq1e2hAr"
      }
    },
    {
      "cell_type": "code",
      "source": [
        "squares = ['red','yellow','blue','grey','green','purple','orange']\n",
        "for square in squares:\n",
        "  square \n",
        "square"
      ],
      "metadata": {
        "colab": {
          "base_uri": "https://localhost:8080/",
          "height": 36
        },
        "id": "1DgQTYR73xad",
        "outputId": "13f7f6f9-1f5f-4128-f4fa-e431be857240"
      },
      "execution_count": null,
      "outputs": [
        {
          "output_type": "execute_result",
          "data": {
            "text/plain": [
              "'orange'"
            ],
            "application/vnd.google.colaboratory.intrinsic+json": {
              "type": "string"
            }
          },
          "metadata": {},
          "execution_count": 26
        }
      ]
    },
    {
      "cell_type": "markdown",
      "source": [
        "Una función bastante usada para iterar data es **enumerate( )**, la cual te obtiene el índice y el elemento de la lista."
      ],
      "metadata": {
        "id": "9v3ct-aA4Mzt"
      }
    },
    {
      "cell_type": "code",
      "source": [
        "squares = ['red','yellow','blue','grey','green','purple','orange']\n",
        "for i,square in enumerate(squares):\n",
        "  square \n",
        "  i\n",
        "square,i # ya corrió por todos los índices y elementos"
      ],
      "metadata": {
        "colab": {
          "base_uri": "https://localhost:8080/"
        },
        "id": "McL22cFS4oZP",
        "outputId": "ef01b88d-ed5e-414c-f0a5-72e3f7ea969e"
      },
      "execution_count": null,
      "outputs": [
        {
          "output_type": "execute_result",
          "data": {
            "text/plain": [
              "('orange', 6)"
            ]
          },
          "metadata": {},
          "execution_count": 28
        }
      ]
    },
    {
      "cell_type": "markdown",
      "source": [
        "**Ciclos While** - son hermanos de los cilos for, pero la diferencia radica en que en vez de ejecutar una declaración un *n* número de veces, el ciclo while te deja correr el código si se cumple una condición."
      ],
      "metadata": {
        "id": "BvV9fuN25ASS"
      }
    },
    {
      "cell_type": "code",
      "source": [
        "squares = ['orange','orange','blue','orange','green','purple','orange']\n",
        "Newsquares = []\n",
        "i = 0 # creamos una variable iterativa \n",
        "while (squares[i] == 'orange'):\n",
        "  Newsquares.append(squares[i]) \n",
        "  i = i + 1 # contador, esta variable correrá los índices através del ciclo\n",
        "Newsquares # el ciclo se detendrá cuando no se cumpla la condición para seguir"
      ],
      "metadata": {
        "colab": {
          "base_uri": "https://localhost:8080/"
        },
        "id": "vuomMYs259nN",
        "outputId": "1e2d0941-2a62-4750-96c3-3f22aaf789e9"
      },
      "execution_count": null,
      "outputs": [
        {
          "output_type": "execute_result",
          "data": {
            "text/plain": [
              "['orange', 'orange']"
            ]
          },
          "metadata": {},
          "execution_count": 32
        }
      ]
    },
    {
      "cell_type": "code",
      "source": [
        "A = [3,4,5]\n",
        "for a in A: # Para una variable dentro del set A\n",
        "  print(a)"
      ],
      "metadata": {
        "colab": {
          "base_uri": "https://localhost:8080/"
        },
        "id": "grpUtZUM7fzn",
        "outputId": "28caf9f1-adcb-4cfc-d82a-cd32e63eb1de"
      },
      "execution_count": null,
      "outputs": [
        {
          "output_type": "stream",
          "name": "stdout",
          "text": [
            "3\n",
            "4\n",
            "5\n"
          ]
        }
      ]
    },
    {
      "cell_type": "code",
      "source": [
        "dates = [1982, 1980, 1973, 2000] #declaras lista\n",
        "i = 0 # declaras variable contable\n",
        "year = dates[0] # inicializas variable de corrimiento va a leer los años empezando en 1982\n",
        "while(year != 1973):    \n",
        "    print(year)\n",
        "    i = i + 1\n",
        "    year = dates[i] # actualizas la variable de corrimiento\n",
        "    \n",
        "\n",
        "print(\"It took \", i ,\"repetitions to get out of loop.\")"
      ],
      "metadata": {
        "colab": {
          "base_uri": "https://localhost:8080/"
        },
        "id": "63fC-B6V195x",
        "outputId": "b71040cc-aa01-485c-8303-7be3eaedf8fc"
      },
      "execution_count": null,
      "outputs": [
        {
          "output_type": "stream",
          "name": "stdout",
          "text": [
            "1982\n",
            "1980\n",
            "It took  2 repetitions to get out of loop.\n"
          ]
        }
      ]
    },
    {
      "cell_type": "markdown",
      "source": [
        "![image.png](data:image/png;base64,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)"
      ],
      "metadata": {
        "id": "UokkvRaO5GRz"
      }
    },
    {
      "cell_type": "markdown",
      "source": [
        "\n",
        "Quiz - Comparison Operators answers"
      ],
      "metadata": {
        "id": "07tQSjwG5Iob"
      }
    },
    {
      "cell_type": "code",
      "source": [
        "i = 1\n",
        "i != 0"
      ],
      "metadata": {
        "colab": {
          "base_uri": "https://localhost:8080/"
        },
        "id": "Ftl7Lr7c90Ii",
        "outputId": "0fed1a42-04df-4afb-a32f-e9645277cc41"
      },
      "execution_count": null,
      "outputs": [
        {
          "output_type": "execute_result",
          "data": {
            "text/plain": [
              "True"
            ]
          },
          "metadata": {},
          "execution_count": 2
        }
      ]
    },
    {
      "cell_type": "code",
      "source": [
        "x = 'a'\n",
        "if(x=='a'):\n",
        "    print(\"this is a\")\n",
        "else:\n",
        "    print(\"this is  not a\")"
      ],
      "metadata": {
        "colab": {
          "base_uri": "https://localhost:8080/"
        },
        "id": "ZtpCbomb90zD",
        "outputId": "621fb598-82e1-4b4a-c05d-0207a8d598a8"
      },
      "execution_count": null,
      "outputs": [
        {
          "output_type": "stream",
          "name": "stdout",
          "text": [
            "this is a\n"
          ]
        }
      ]
    },
    {
      "cell_type": "code",
      "source": [
        "y=9\n",
        "x=1\n",
        "x>0 and y<10"
      ],
      "metadata": {
        "colab": {
          "base_uri": "https://localhost:8080/"
        },
        "id": "gM03DJbV-gid",
        "outputId": "4a0dff81-a1ea-4a62-e16c-4cb41d665539"
      },
      "execution_count": null,
      "outputs": [
        {
          "output_type": "execute_result",
          "data": {
            "text/plain": [
              "True"
            ]
          },
          "metadata": {},
          "execution_count": 4
        }
      ]
    },
    {
      "cell_type": "markdown",
      "source": [
        "Nota: las funciones **try:** y **except:** básicamente de dejan correr y prevenir errores normalmente cuando uno pone input() es decir que el usuario ponga datos, el mismo usuario puede cometer errores, entonces try y except funcionan de tal modo que uno pueda regresar y corregir su error.\n",
        "Un ejemplo:"
      ],
      "metadata": {
        "id": "Hx-7GMe5_nOY"
      }
    },
    {
      "cell_type": "code",
      "source": [
        "largest = None # La palabra clave None se utiliza para definir un valor nulo o ningún valor. None no es lo mismo que 0, Falso o una cadena vacía.\n",
        "smallest = None\n",
        "counter = 0\n",
        "tot = 0\n",
        "while True:\n",
        "    num = input(\"Enter a number: \")\n",
        "    if num == \"done\":\n",
        "        break\n",
        "    try:\n",
        "        n = float(num)\n",
        "    except:\n",
        "        print(\"Not A Number\")\n",
        "        continue\n",
        "    print(n)\n",
        "    if smallest is None:\n",
        "        smallest = n\n",
        "    elif n < smallest:\n",
        "        smallest = n\n",
        "        print(\"Smallest so far\",smallest)\n",
        "    if largest is None:\n",
        "        largest = n\n",
        "    elif n > largest:\n",
        "        largest = n\n",
        "        print(\"Largest so far\",largest)\n",
        "\n",
        "    counter = counter + 1\n",
        "    tot = tot + abs(n)\n",
        "\n",
        "print(\"Total Sample\",counter)\n",
        "print(\"Addition\",tot)\n",
        "print(\"Average\",tot/counter)\n",
        "print(\"Maximum\",largest)\n",
        "print(\"Minimum\",smallest)"
      ],
      "metadata": {
        "colab": {
          "base_uri": "https://localhost:8080/"
        },
        "id": "a7BSosJKA8rB",
        "outputId": "7259660f-45fa-481a-8bee-e2859a8f7205"
      },
      "execution_count": 8,
      "outputs": [
        {
          "output_type": "stream",
          "name": "stdout",
          "text": [
            "Enter a number: 89\n",
            "89.0\n",
            "Enter a number: 76.4\n",
            "76.4\n",
            "Smallest so far 76.4\n",
            "Enter a number: 20398289344\n",
            "20398289344.0\n",
            "Largest so far 20398289344.0\n",
            "Enter a number: -452673\n",
            "-452673.0\n",
            "Smallest so far -452673.0\n",
            "Enter a number: dgfhsjf\n",
            "Not A Number\n",
            "Enter a number: done\n",
            "Total Sample 4\n",
            "Addition 20398742182.4\n",
            "Average 5099685545.6\n",
            "Maximum 20398289344.0\n",
            "Minimum -452673.0\n"
          ]
        }
      ]
    },
    {
      "cell_type": "markdown",
      "source": [
        "Quiz de ciclos"
      ],
      "metadata": {
        "id": "0FGKqXY8Fez9"
      }
    },
    {
      "cell_type": "code",
      "source": [
        "A=[3,4,5]\n",
        "for i in A:\n",
        "    print(i)"
      ],
      "metadata": {
        "colab": {
          "base_uri": "https://localhost:8080/"
        },
        "id": "OQCalTcqFeDc",
        "outputId": "066649c1-1896-4f82-f31a-cc423b102d3e"
      },
      "execution_count": null,
      "outputs": [
        {
          "output_type": "stream",
          "name": "stdout",
          "text": [
            "3\n",
            "4\n",
            "5\n"
          ]
        }
      ]
    },
    {
      "cell_type": "code",
      "source": [
        "x=11\n",
        "y=1\n",
        "while(y != x):\n",
        "    print(y)\n",
        "    y=y+1"
      ],
      "metadata": {
        "colab": {
          "base_uri": "https://localhost:8080/"
        },
        "id": "QamvOMs5FlG6",
        "outputId": "36319241-c6d8-4be8-add4-9efc3c6f84b2"
      },
      "execution_count": null,
      "outputs": [
        {
          "output_type": "stream",
          "name": "stdout",
          "text": [
            "1\n",
            "2\n",
            "3\n",
            "4\n",
            "5\n",
            "6\n",
            "7\n",
            "8\n",
            "9\n",
            "10\n"
          ]
        }
      ]
    },
    {
      "cell_type": "markdown",
      "source": [
        "# Funciones"
      ],
      "metadata": {
        "id": "_oupdS6xBhY-"
      }
    },
    {
      "cell_type": "markdown",
      "source": [
        "Las funciones son pedazos de código que se pueden reusar, se pueden invocar en cualquier segmento del código, toman una entrada y regresan una salida. Para definir una función se usa el comando **def** seguido del nombre de la función y luego el parámetro formal"
      ],
      "metadata": {
        "id": "ByyzYGrzFQc_"
      }
    },
    {
      "cell_type": "code",
      "source": [
        "def addition1 (a):\n",
        "  b = a + 1\n",
        "  return b\n",
        "c = addition1(10)\n",
        "c"
      ],
      "metadata": {
        "colab": {
          "base_uri": "https://localhost:8080/"
        },
        "id": "wzgm7jbHNo7a",
        "outputId": "7f158451-3ae1-4220-e981-a2ae32cec5f6"
      },
      "execution_count": null,
      "outputs": [
        {
          "output_type": "execute_result",
          "data": {
            "text/plain": [
              "11"
            ]
          },
          "metadata": {},
          "execution_count": 10
        }
      ]
    },
    {
      "cell_type": "markdown",
      "source": [
        "Se puede documentar la función por medio de triples comillas \"\"\" y hace uso de la función **help** para leer dicha documentación y saber manejar la función.\n",
        "\n",
        "Las funciones puden tener parámetros múltiples."
      ],
      "metadata": {
        "id": "OxBOy0s2O-Lt"
      }
    },
    {
      "cell_type": "code",
      "source": [
        "def Multi(a,b):\n",
        "  c = a * b\n",
        "  return c\n",
        "Multi(7,9)"
      ],
      "metadata": {
        "colab": {
          "base_uri": "https://localhost:8080/"
        },
        "id": "3SG2N-5PRgJf",
        "outputId": "1efbdf00-7284-4ee5-d9bf-ab5f97986ecf"
      },
      "execution_count": null,
      "outputs": [
        {
          "output_type": "execute_result",
          "data": {
            "text/plain": [
              "63"
            ]
          },
          "metadata": {},
          "execution_count": 12
        }
      ]
    },
    {
      "cell_type": "markdown",
      "source": [
        "Se pueden usar ciclos dentro de las funciones de igual forma:"
      ],
      "metadata": {
        "id": "ZlO_sTgrSbiR"
      }
    },
    {
      "cell_type": "code",
      "source": [
        "def printsomething(some):\n",
        "  for i,s in enumerate(some):\n",
        "    print('Album',i,'Rating is',s)\n",
        "album_ratings = [10.0,8.5,9.5]\n",
        "printsomething(album_ratings)"
      ],
      "metadata": {
        "colab": {
          "base_uri": "https://localhost:8080/"
        },
        "id": "Py0LG7_zSXQA",
        "outputId": "f1172794-6ba5-4949-f90c-6ec5792b4f26"
      },
      "execution_count": null,
      "outputs": [
        {
          "output_type": "stream",
          "name": "stdout",
          "text": [
            "Album 0 Rating is 10.0\n",
            "Album 1 Rating is 8.5\n",
            "Album 2 Rating is 9.5\n"
          ]
        }
      ]
    },
    {
      "cell_type": "markdown",
      "source": [
        "Se utiliza un asterisco para denotar parámetros variadicos que asisten en hacer una entrada con número variable de elementos."
      ],
      "metadata": {
        "id": "PZgu9L0KUSEy"
      }
    },
    {
      "cell_type": "code",
      "source": [
        "def artistnames(*Names):\n",
        "  for name in Names:\n",
        "    print(name)\n",
        "\n",
        "artistnames('Michael Jackson', 'AC/DC')"
      ],
      "metadata": {
        "colab": {
          "base_uri": "https://localhost:8080/"
        },
        "id": "lOgzdDQYVT4s",
        "outputId": "43cf4aa2-13fc-4d61-aa1b-3e4de8703122"
      },
      "execution_count": null,
      "outputs": [
        {
          "output_type": "stream",
          "name": "stdout",
          "text": [
            "Michael Jackson\n",
            "AC/DC\n"
          ]
        }
      ]
    },
    {
      "cell_type": "markdown",
      "source": [
        "El scope o alcance de una variable es la parte de un programa donde esa variable es accesible, las variables definidas fuerda de cualquier función se dicen estar dentro del alcance global, significando que se pueden accesar en cualquier sitio después de ser definidas.\n",
        "\n",
        "Una variable que se declara dentro de una función se llama variable local. El parámetro solo existe dentro de la función (es decir, el punto donde la función comienza y termina).\n",
        "\n",
        "Una variable que se declara fuera de la definición de una función es una variable global, y su valor es accesible y modificable en todo el programa"
      ],
      "metadata": {
        "id": "LGvsQddkV5Z8"
      }
    },
    {
      "cell_type": "markdown",
      "source": [
        "Quiz del laboratorio:"
      ],
      "metadata": {
        "id": "lp1qxWpb2CGV"
      }
    },
    {
      "cell_type": "code",
      "source": [
        "def f(a,b):\n",
        "    \n",
        "    return a*b\n",
        "a=4\n",
        "b=2\n",
        "\n",
        "if a*b==f(a,b):   \n",
        "    print(\"Correct.\")   \n",
        "else:    \n",
        "    print(\"Incorrect.\")"
      ],
      "metadata": {
        "colab": {
          "base_uri": "https://localhost:8080/"
        },
        "id": "aAkuOlNb2FyO",
        "outputId": "81132c41-5611-4f4a-f78f-4e7b7023da5b"
      },
      "execution_count": 1,
      "outputs": [
        {
          "output_type": "stream",
          "name": "stdout",
          "text": [
            "Correct.\n"
          ]
        }
      ]
    },
    {
      "cell_type": "code",
      "source": [
        "def g(c):\n",
        "    addi = sum(c)\n",
        "\n",
        "    return addi\n",
        "c=[1,2,3,4,5]\n",
        "\n",
        "if sum(c)==g(c):   \n",
        "    print(\"Correct.\")   \n",
        "else:    \n",
        "    print(\"Incorrect.\")"
      ],
      "metadata": {
        "colab": {
          "base_uri": "https://localhost:8080/"
        },
        "id": "Vk9c69Yb2MUW",
        "outputId": "70285976-c7ad-46c3-d0bf-c4bc95294117"
      },
      "execution_count": 2,
      "outputs": [
        {
          "output_type": "stream",
          "name": "stdout",
          "text": [
            "Correct.\n"
          ]
        }
      ]
    },
    {
      "cell_type": "markdown",
      "source": [
        "#Objetos y Clases"
      ],
      "metadata": {
        "id": "ASirqxuZ2Y7u"
      }
    },
    {
      "cell_type": "markdown",
      "source": [
        "Cada tipo de variable son objetos, cada objeto contiene los siguiente: un tipo, una representación interna, un conjunto de funciones denominados métodos para interactuar con los datos.\n",
        "Los objetos son una instancia de un tipo particular.\n",
        "\n",
        "Se puede determinar el tipo de objeto al usar el comando **type( )**"
      ],
      "metadata": {
        "id": "jfy7c62c2bS4"
      }
    },
    {
      "cell_type": "code",
      "source": [
        "type([1,34,3])"
      ],
      "metadata": {
        "colab": {
          "base_uri": "https://localhost:8080/"
        },
        "id": "OrspF-rGSYMd",
        "outputId": "e77fdd4f-19b8-48db-9aff-c3302c79192a"
      },
      "execution_count": 1,
      "outputs": [
        {
          "output_type": "execute_result",
          "data": {
            "text/plain": [
              "list"
            ]
          },
          "metadata": {},
          "execution_count": 1
        }
      ]
    },
    {
      "cell_type": "code",
      "source": [
        "type('str')"
      ],
      "metadata": {
        "colab": {
          "base_uri": "https://localhost:8080/"
        },
        "id": "2YK_5Y2KSbmt",
        "outputId": "b14f36d8-406a-4551-b921-48c0c173dc40"
      },
      "execution_count": 3,
      "outputs": [
        {
          "output_type": "execute_result",
          "data": {
            "text/plain": [
              "str"
            ]
          },
          "metadata": {},
          "execution_count": 3
        }
      ]
    },
    {
      "cell_type": "markdown",
      "source": [
        "Una clase o tipos de métodos son funciones que para cada instancia the esa clase o tipo provee. Es como se interactúa con los datos en un objeto\n",
        "\n",
        "Se usa la función **reverse( )** para regresar la secuencia incial de cierto vector lista o arreglo al haber pasado por la función **.sort( )**\n",
        "\n",
        "Una instancia de un objeto es la realización de una clase.\n",
        "\n",
        "Las clases tienen atributos de datos y métodos, se crean instancias de esa clase u objetos.\n",
        "\n",
        "Para crear una clase se declara la definición de la clase (como las funciones): **class** el nombre de la clase **circulo** y el nombre **object**  para este curso, entre paréntesis.\n",
        "\n",
        "La función **__init__** es un constructor, está funció le dice a Python que estas creando una nueva clase. \n",
        "\n",
        "En el ejemplo del circulo se definen los parámetros, *radio* y *color* se usan para inicializar los atributos de datos de la instancia de la clase. El parámetro *self* refiere a la recién instancia creada de la clase. \n",
        "\n",
        "Los parámetros **radius** y **color** pueden ser utilizados en el cuerpo del constructor para accesar los valores pasados a la clase del constructor cuando se construye dicha clase.\n",
        "\n",
        "Luego se llaman llamar los atributos como una función al incorporar datos para la clase.\n",
        "\n",
        "Se puede obtener los valores de cada atributo utilizando los comandos utilizados dentro de la clase para visualizar los atributos del objeto:"
      ],
      "metadata": {
        "id": "3h4LjXy2S9yQ"
      }
    },
    {
      "cell_type": "code",
      "source": [
        "class Circle(object):\n",
        "  def __init__(self,radius,color):\n",
        "    self.radius = radius;\n",
        "    self.color = color;\n",
        "\n",
        "C1 = Circle(10,'red')\n",
        "C1.radius,C1.color"
      ],
      "metadata": {
        "colab": {
          "base_uri": "https://localhost:8080/"
        },
        "id": "R4mqK5B6Si6T",
        "outputId": "676ef102-576b-4bc2-a10c-cdffceab60fa"
      },
      "execution_count": 5,
      "outputs": [
        {
          "output_type": "execute_result",
          "data": {
            "text/plain": [
              "(10, 'red')"
            ]
          },
          "metadata": {},
          "execution_count": 5
        }
      ]
    },
    {
      "cell_type": "markdown",
      "source": [],
      "metadata": {
        "id": "FXUXXWcwsbad"
      }
    },
    {
      "cell_type": "markdown",
      "source": [
        "Se puede cambiar el atributo del objeto dentro de la clase al usar el comando del atributo seguido del punto e igualando a la cantidad a cambiar:"
      ],
      "metadata": {
        "id": "QSkR3QXV3bF0"
      }
    },
    {
      "cell_type": "code",
      "source": [
        "C1.color = 'blue'\n",
        "C1.color"
      ],
      "metadata": {
        "colab": {
          "base_uri": "https://localhost:8080/",
          "height": 36
        },
        "id": "FtGUhzkw3JMg",
        "outputId": "c9565a46-1e5e-46aa-c9d3-5e9c413e62ba"
      },
      "execution_count": 6,
      "outputs": [
        {
          "output_type": "execute_result",
          "data": {
            "text/plain": [
              "'blue'"
            ],
            "application/vnd.google.colaboratory.intrinsic+json": {
              "type": "string"
            }
          },
          "metadata": {},
          "execution_count": 6
        }
      ]
    },
    {
      "cell_type": "markdown",
      "source": [
        "Los métodos son funciones que interactúan y cambian los atributos de los datos, cambiando o usando los atributos de datos del objeto. En el ejemplo pasado, si se desea cambiar el tamaño del circulo, entonces se debe de cambiar el atributo del radio del mismo, se puede añadir un método 'add.radius' a la clase Circle. El método es una función que requiere del seld también, al igual que otros parámetros. \n",
        "\n",
        "En este caso vamos a añadir un valor al radio; se denota el valor **r**, y se añade **r** a los atributos."
      ],
      "metadata": {
        "id": "hwaHRvvW3zqG"
      }
    },
    {
      "cell_type": "code",
      "source": [
        "import matplotlib.pyplot as plt\n",
        "%matplotlib inline  "
      ],
      "metadata": {
        "id": "KZGb2ozis1Lf"
      },
      "execution_count": 10,
      "outputs": []
    },
    {
      "cell_type": "code",
      "source": [
        "class Circle(object):\n",
        "  # Constructor\n",
        "  def __init__(self,radius,color):\n",
        "    self.radius = radius;\n",
        "    self.color = color;\n",
        "    # Método\n",
        "  def add_radius(self,r):\n",
        "    self.radius = self.radius+r #En el laboratorio usamos el método drawCircle(self)\n",
        "    # Método\n",
        "  def drawCircle(self):\n",
        "       plt.gca().add_patch(plt.Circle((0, 0), radius=self.radius, fc=self.color))\n",
        "       plt.axis('scaled')\n",
        "       plt.show()  \n",
        "\n",
        "RedCircle = Circle(3,'red')\n",
        "RedCircle.drawCircle()\n",
        " "
      ],
      "metadata": {
        "colab": {
          "base_uri": "https://localhost:8080/",
          "height": 265
        },
        "id": "Q4N1R8cL3ptK",
        "outputId": "b3b001d2-3a68-4f20-fe46-8383fd3e1aad"
      },
      "execution_count": 12,
      "outputs": [
        {
          "output_type": "display_data",
          "data": {
            "text/plain": [
              "<Figure size 432x288 with 1 Axes>"
            ],
            "image/png": "[encoded data removed]"
          },
          "metadata": {
            "needs_background": "light"
          }
        }
      ]
    },
    {
      "cell_type": "code",
      "source": [
        "class Rectangle(object):\n",
        "  def __init__(self, width, height, color):\n",
        "      self.height = height \n",
        "      self.width = width\n",
        "      self.color = color\n",
        "  def drawRectangle(self):\n",
        "      plt.gca().add_patch(plt.Rectangle((0, 0), self.width, self.height ,fc=self.color))\n",
        "      plt.axis('scaled')\n",
        "      plt.show()\n",
        "YellowRectangle = Rectangle(20,7,'yellow')\n",
        "YellowRectangle.drawRectangle()\n"
      ],
      "metadata": {
        "colab": {
          "base_uri": "https://localhost:8080/",
          "height": 165
        },
        "id": "2LAVH6dx6ozI",
        "outputId": "5a2465fb-3d53-4da5-ab12-d38f52623687"
      },
      "execution_count": 17,
      "outputs": [
        {
          "output_type": "display_data",
          "data": {
            "text/plain": [
              "<Figure size 432x288 with 1 Axes>"
            ],
            "image/png": "[encoded data removed]"
          },
          "metadata": {
            "needs_background": "light"
          }
        }
      ]
    },
    {
      "cell_type": "markdown",
      "source": [
        "La función **dir(Nombre del objeto)** te permite obtener una lista de los elementos de atributos asociados con la clase. La salida es una lista de todos esos atributos, si tienen guión bajo, estos son utilizados de manera interna y no deberían de importar. los que no utilizan dichos guiones son los de nuestro interés."
      ],
      "metadata": {
        "id": "Na4s5NyPZzxW"
      }
    },
    {
      "cell_type": "markdown",
      "source": [],
      "metadata": {
        "id": "9Jr4WWeaacpS"
      }
    }
  ]
}
