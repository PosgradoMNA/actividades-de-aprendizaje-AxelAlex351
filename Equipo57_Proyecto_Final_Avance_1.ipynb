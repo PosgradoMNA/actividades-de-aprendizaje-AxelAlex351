{
  "nbformat": 4,
  "nbformat_minor": 0,
  "metadata": {
    "colab": {
      "provenance": [],
      "collapsed_sections": []
    },
    "kernelspec": {
      "name": "python3",
      "display_name": "Python 3"
    },
    "language_info": {
      "name": "python"
    }
  },
  "cells": [
    {
      "cell_type": "markdown",
      "source": [
        "# Emisiones de CO₂ por país desde 1750 a 2022"
      ],
      "metadata": {
        "id": "DnaKhx6JwCoc"
      }
    },
    {
      "cell_type": "markdown",
      "source": [
        "Los siguientes datos fueron proporcionados de un dominio web con datos públicos: kaggle.com. Cuya dirección es: https://www.kaggle.com/datasets/moazzimalibhatti/co2-emission-by-countries-year-wise-17502022 \n",
        "\n",
        "Se presentan 9 columnas, en las cuales se presentan la siguiente información, ordenada de izquierda a derecha: \n",
        "\n",
        "\n",
        "1. **Country** - el nombre de cada país.\n",
        "2. **Code** - una abreviatura  simbólica que representa cada país.\n",
        "3. **Calling Code** - lada internacional del país.\n",
        "4. **Year** -  año de emisión de **CO₂**.\n",
        "5. **CO₂ emission (Tons)** - la cantidad de emisiones de **CO₂** en Toneladas.\n",
        "6. **Population (2022)** - la población de la región en 2022.\n",
        "7. **Area** - extensión territorial en *km²*.\n",
        "8. **% of World** - porcentaje territorial que cubre el país en el mundo.\n",
        "9. **Density** -densidad de acuerdo al área en *km²*.\n",
        "\n",
        "Varias preguntas que se pueden formular son:\n",
        "\n",
        "\n",
        "*   ¿Qué relación tiene la densidad de población con las emisiones de CO₂?\n",
        "*   La relación entre el escalamiento repentino de emisiones con respecto al auge del sector industrial en México\n",
        "* El aumento en emisiones debido a la introducción del sector automotriz hasta el momento. \n",
        "* Función de toneladas producidas por cada km² durante el tiempo.\n",
        "* ¿Se podrá establecer un modelo predictivo para las emisiones futuras de CO₂?\n",
        "* Dado el punto anterior, ¿Qué tan confiable es el modelo predictivo con respecto a los modelos generados en artículos de divulgación científica?\n",
        "* La relación entre el aumento de la temperatura y el aumento de emisiones de  CO₂ a través de los años.\n",
        "* ¿Cómo afectan las emisiones a la producción del sector industrial?\n",
        "\n",
        "Cabe recalcar que para los primeros 3 puntos sería útil actualizar la base de datos y comparar un histórico de la densidad de población desde 1750 hasta el momento, el número de automóviles introducidos dentro del país al igual que el crecimiento del sector industrial a través del tiempo, también se puede complementar utilizando datos de temperaturas promedio históricas. Los sectores que se pueden beneficiar son el de la agricultura principalmente puesto que las emisiones elevan la temperatura y eso produce sequías, que desplazan a los cultivos, el sector apicultor puesto que las emisiones de CO₂ afectan la producción de las abejas [1], el poder predecir las toneladas futuras de dichas emisiones en el país podría dar un indicio de cómo prevenir las muertes de miles de abejas. El sector de generación de energía eléctrica para cumplir los acuerdos del siglo XXI e incentivar a las industrias a cambiar sus métodos de producción a ciclos combinados o energías renovables. \n",
        "\n",
        "\n",
        "**Fuente**\n",
        "\n",
        "[1] Ziska LH, Pettis JS, Edwards J, Hancock JE, Tomecek MB, Clark A, Dukes JS, Loladze I, Polley HW. Rising atmospheric CO2 is reducing the protein concentration of a floral pollen source essential for North American bees. Proc Biol Sci. 2016 Apr 13;283(1828):20160414. doi: 10.1098/rspb.2016.0414. PMID: 27075256; PMCID: PMC4843664. \n",
        "\n"
      ],
      "metadata": {
        "id": "YV3qO2xX0iQl"
      }
    }
  ]
}
