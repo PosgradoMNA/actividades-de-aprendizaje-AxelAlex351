{
  "nbformat": 4,
  "nbformat_minor": 0,
  "metadata": {
    "colab": {
      "provenance": []
    },
    "kernelspec": {
      "name": "python3",
      "display_name": "Python 3"
    },
    "language_info": {
      "name": "python"
    }
  },
  "cells": [
    {
      "cell_type": "markdown",
      "source": [
        "# Módulo 5 "
      ],
      "metadata": {
        "id": "m-D3yV-61VHj"
      }
    },
    {
      "cell_type": "markdown",
      "source": [
        "**Arreglos de numpy en 1D**\n",
        "\n",
        "\n",
        "---\n",
        "\n",
        "\n",
        "\n",
        "Numpy es una librería utilizada en la rama de ciencias de la computación, posee muchas funciones útiles. Tiene otras varias ventajas, como: rapiz y memoria. Numpy también es una base para *pandas*. \n",
        "\n",
        "A diferencia de python, cuando se crea una lista:\n",
        "\n",
        "\n",
        "\n",
        "```\n",
        "a = ['0','1.0','dos','[3,4,5]']\n",
        "```\n",
        "Uno puede acceder a los datos de la lista mediante sus índices:\n",
        "\n",
        "\n",
        "\n",
        "```\n",
        "a[0]:'0', a[2]:'dos', a[3]:[3,4,5]\n",
        "```\n",
        "\n",
        "Análogamente en numpy existen los arreglos o *ndarray* que es similar a una lista, usualmente de tamaño definido y con cada elemento del mismo tipo, en este ejemplo variables tipo enteras:\n",
        "\n",
        "\n",
        "\n",
        "```\n",
        "[0,1,2,3,4]\n",
        "```\n",
        "\n",
        "Podemos transformar una lista a un arreglo de numpy, primero debemos importar la libreria:\n",
        "\n",
        "\n",
        "\n",
        "```\n",
        "import numpy as np\n",
        "a = np.array([0,1,2,3,4])\n",
        "```\n",
        "De igual forma como las listas, podemos acceder a cada elemento vía su índice de la misma manera que como se hace con python; sin embargo, si checamos el tipo de la variable 'a' lo que nos resulta es un *numpy.ndarray* en vez de una lista. \n",
        "\n",
        "Se puede obtener el tipo de datos del arreglo al usar **.dtype**. \n",
        "\n",
        "Más ejemplos de atributos en el código de ejemplo;"
      ],
      "metadata": {
        "id": "DLQE6gHl1ZEt"
      }
    },
    {
      "cell_type": "code",
      "source": [
        "import numpy as np\n",
        "lista = [0,1,2,3,4]\n",
        "a = np.array(lista)\n",
        "a"
      ],
      "metadata": {
        "colab": {
          "base_uri": "https://localhost:8080/"
        },
        "id": "KwuYJk0X8kEI",
        "outputId": "c6d80a57-6f18-4a7a-a413-a40141bb86c6"
      },
      "execution_count": 3,
      "outputs": [
        {
          "output_type": "execute_result",
          "data": {
            "text/plain": [
              "array([0, 1, 2, 3, 4])"
            ]
          },
          "metadata": {},
          "execution_count": 3
        }
      ]
    },
    {
      "cell_type": "code",
      "source": [
        "a.size # .size indica el no. de elementos dentro del arreglo."
      ],
      "metadata": {
        "colab": {
          "base_uri": "https://localhost:8080/"
        },
        "id": "PnaW2Pzs8wJj",
        "outputId": "54f76736-3b38-4567-b266-6438cfa01280"
      },
      "execution_count": 4,
      "outputs": [
        {
          "output_type": "execute_result",
          "data": {
            "text/plain": [
              "5"
            ]
          },
          "metadata": {},
          "execution_count": 4
        }
      ]
    },
    {
      "cell_type": "code",
      "source": [
        "a.ndim # .ndim representa la dimensión del arreglo o el rango del arreglo"
      ],
      "metadata": {
        "colab": {
          "base_uri": "https://localhost:8080/"
        },
        "id": "JSO_V7IJ8zrn",
        "outputId": "25f534a3-9cbe-4a04-8fcf-2b4cfe738039"
      },
      "execution_count": 5,
      "outputs": [
        {
          "output_type": "execute_result",
          "data": {
            "text/plain": [
              "1"
            ]
          },
          "metadata": {},
          "execution_count": 5
        }
      ]
    },
    {
      "cell_type": "code",
      "source": [
        "a.shape # shape es una tupla de enteros indicando el tamaño del arreglo en cada dimensión"
      ],
      "metadata": {
        "colab": {
          "base_uri": "https://localhost:8080/"
        },
        "id": "oXviHRTQ9MJ4",
        "outputId": "a824d523-540c-4995-f41b-b3c3f283a5ff"
      },
      "execution_count": 6,
      "outputs": [
        {
          "output_type": "execute_result",
          "data": {
            "text/plain": [
              "(5,)"
            ]
          },
          "metadata": {},
          "execution_count": 6
        }
      ]
    },
    {
      "cell_type": "code",
      "source": [
        "# Creamos un arreglo de numpy con números reales:\n",
        "\n",
        "b = np.array([3.1,11.02,6.08,215.45,5.2])\n",
        "\n",
        "type(b)"
      ],
      "metadata": {
        "colab": {
          "base_uri": "https://localhost:8080/"
        },
        "id": "YxNkoLgu9rCA",
        "outputId": "e306a24c-da3a-4240-d37a-08cb0b1446af"
      },
      "execution_count": 7,
      "outputs": [
        {
          "output_type": "execute_result",
          "data": {
            "text/plain": [
              "numpy.ndarray"
            ]
          },
          "metadata": {},
          "execution_count": 7
        }
      ]
    },
    {
      "cell_type": "code",
      "source": [
        "b.dtype"
      ],
      "metadata": {
        "colab": {
          "base_uri": "https://localhost:8080/"
        },
        "id": "WHk3SRYPAsqH",
        "outputId": "606fa589-e978-427e-a139-ada6c2ae0881"
      },
      "execution_count": 8,
      "outputs": [
        {
          "output_type": "execute_result",
          "data": {
            "text/plain": [
              "dtype('float64')"
            ]
          },
          "metadata": {},
          "execution_count": 8
        }
      ]
    },
    {
      "cell_type": "markdown",
      "source": [
        "Para cambiar un elemento de un arreglo se usa la misma notación que las listas:"
      ],
      "metadata": {
        "id": "7y_hvBRJBMxZ"
      }
    },
    {
      "cell_type": "code",
      "source": [
        "c = np.array([20,1,2,3,4])\n",
        "c"
      ],
      "metadata": {
        "colab": {
          "base_uri": "https://localhost:8080/"
        },
        "id": "yltDW2_WBMXH",
        "outputId": "c598c7be-3fa3-4c92-adfb-9a02afe00297"
      },
      "execution_count": 9,
      "outputs": [
        {
          "output_type": "execute_result",
          "data": {
            "text/plain": [
              "array([20,  1,  2,  3,  4])"
            ]
          },
          "metadata": {},
          "execution_count": 9
        }
      ]
    },
    {
      "cell_type": "code",
      "source": [
        "c[0] = 100\n",
        "c"
      ],
      "metadata": {
        "colab": {
          "base_uri": "https://localhost:8080/"
        },
        "id": "2Zz6Sx63BGz0",
        "outputId": "11ca07a4-7e22-41ca-f9be-bf36b2e022c2"
      },
      "execution_count": 11,
      "outputs": [
        {
          "output_type": "execute_result",
          "data": {
            "text/plain": [
              "array([100,   1,   2,   3,   4])"
            ]
          },
          "metadata": {},
          "execution_count": 11
        }
      ]
    },
    {
      "cell_type": "code",
      "source": [
        "c[-1] = 0\n",
        "c"
      ],
      "metadata": {
        "colab": {
          "base_uri": "https://localhost:8080/"
        },
        "id": "kwVjh5bMBjQP",
        "outputId": "bd84c998-98a9-401a-8010-dfbe8a7d0d10"
      },
      "execution_count": 13,
      "outputs": [
        {
          "output_type": "execute_result",
          "data": {
            "text/plain": [
              "array([100,   1,   2,   3,   0])"
            ]
          },
          "metadata": {},
          "execution_count": 13
        }
      ]
    },
    {
      "cell_type": "markdown",
      "source": [
        "Como las listas y las tuplas, los arreglos de numpy se pueden cortar via slicing:"
      ],
      "metadata": {
        "id": "e9zsQLx2B2de"
      }
    },
    {
      "cell_type": "code",
      "source": [
        "d = c[1:4] # Crea otro arreglo (no lista) con los elementos seleccionados.\n",
        "d"
      ],
      "metadata": {
        "colab": {
          "base_uri": "https://localhost:8080/"
        },
        "id": "EKulvKm-Bpfu",
        "outputId": "3532d589-2c9e-4df2-b40c-659dafaca13d"
      },
      "execution_count": 14,
      "outputs": [
        {
          "output_type": "execute_result",
          "data": {
            "text/plain": [
              "array([1, 2, 3])"
            ]
          },
          "metadata": {},
          "execution_count": 14
        }
      ]
    },
    {
      "cell_type": "markdown",
      "source": [
        "Podemos asignar los índices correspondiente a nuevos valores de la siguiente forma:"
      ],
      "metadata": {
        "id": "EPRPcVFBDNsr"
      }
    },
    {
      "cell_type": "code",
      "source": [
        "c[3:5] = 300,400\n",
        "c"
      ],
      "metadata": {
        "colab": {
          "base_uri": "https://localhost:8080/"
        },
        "id": "ueyR-5XHCJzk",
        "outputId": "b0afcd21-e31a-4cb2-e72b-b6ade28472c2"
      },
      "execution_count": 15,
      "outputs": [
        {
          "output_type": "execute_result",
          "data": {
            "text/plain": [
              "array([100,   1,   2, 300, 400])"
            ]
          },
          "metadata": {},
          "execution_count": 15
        }
      ]
    },
    {
      "cell_type": "markdown",
      "source": [
        "Podemos hace operaciones básicas en arreglos al igual que en Python, pero de manera más eficiente. Se usan dichas operaciones en el contexto de vectores Euclideanos: \n",
        "\n",
        "Adición y resta de vectores:\n",
        "\n",
        "Sea $u$ un vector columna de dos dimensiones y $v$ otro vector columna de dos dimensiones, para operar uno con el otro debemos añadir o sustraer componente por componente de vector:\n",
        "\n",
        "$u = \\begin{bmatrix} 1 \\\\ 0 \\end{bmatrix}$\n",
        "\n",
        "$v = \\begin{bmatrix} 0 \\\\ 1 \\end{bmatrix}$\n",
        "\n",
        "$z = u + v = \\begin{bmatrix} 1+0 \\\\ 0+1 \\end{bmatrix} = \\begin{bmatrix} 1 \\\\ 1 \\end{bmatrix}$\n",
        "\n",
        "$z$ es una combinación lineal de los vectores $u$ y $v$ \n",
        "\n",
        "En python se representa la adición y resta mediante el siguiente código:"
      ],
      "metadata": {
        "id": "ziNkuzcVDijR"
      }
    },
    {
      "cell_type": "code",
      "source": [
        "# Si usamos el método tradicional de listado en python:\n",
        "u = [1,0]\n",
        "v = [0,1]\n",
        "z = []\n",
        "\n",
        "for n,m in zip(u,v):\n",
        "  z.append(n+m)\n",
        "\n",
        "z  "
      ],
      "metadata": {
        "colab": {
          "base_uri": "https://localhost:8080/"
        },
        "id": "QpN6jC-bDcMk",
        "outputId": "60d8f877-de59-4d3a-ce18-cb06c0524e91"
      },
      "execution_count": 17,
      "outputs": [
        {
          "output_type": "execute_result",
          "data": {
            "text/plain": [
              "[1, 1]"
            ]
          },
          "metadata": {},
          "execution_count": 17
        }
      ]
    },
    {
      "cell_type": "code",
      "source": [
        " # De igual manera pero utilizando la librería numpy (corre de manera más eficiente y rápido):\n",
        "u = np.array([1,0])\n",
        "v = np.array([0,1])\n",
        "\n",
        "z = u + v\n",
        "z"
      ],
      "metadata": {
        "colab": {
          "base_uri": "https://localhost:8080/"
        },
        "id": "YoEYtNv8GR-7",
        "outputId": "82b46c73-8715-4c18-e50e-b7496ece6e46"
      },
      "execution_count": 18,
      "outputs": [
        {
          "output_type": "execute_result",
          "data": {
            "text/plain": [
              "array([1, 1])"
            ]
          },
          "metadata": {},
          "execution_count": 18
        }
      ]
    },
    {
      "cell_type": "markdown",
      "source": [
        "Si quisieramos multiplicar un vector por un escalar, entonces sabemos que:\n",
        "\n",
        "$y = \\begin{bmatrix} 1 \\\\ 2 \\end{bmatrix}$\n",
        "\n",
        "$z = 2 \\cdot y$\n",
        "\n",
        "$z = 2 \\cdot \\begin{bmatrix} 1 \\\\ 2 \\end{bmatrix} = \\begin{bmatrix} 2 \\cdot 1 \\\\ 2 \\cdot 2 \\end{bmatrix} = \\begin{bmatrix} 2 \\\\ 4 \\end{bmatrix}$"
      ],
      "metadata": {
        "id": "2MPIRUAbL3JT"
      }
    },
    {
      "cell_type": "code",
      "source": [
        "y = np.array([1,2])\n",
        "\n",
        "z = 2*y\n",
        "z"
      ],
      "metadata": {
        "colab": {
          "base_uri": "https://localhost:8080/"
        },
        "id": "w1wD_IDpLkhO",
        "outputId": "510081d1-ea13-4136-d3fd-fdf1d8be04b4"
      },
      "execution_count": 19,
      "outputs": [
        {
          "output_type": "execute_result",
          "data": {
            "text/plain": [
              "array([2, 4])"
            ]
          },
          "metadata": {},
          "execution_count": 19
        }
      ]
    },
    {
      "cell_type": "markdown",
      "source": [
        "El producto de dos vectores de **Hadamard**:\n",
        "\n",
        "$u = \\begin{bmatrix} 1 \\\\ 2 \\end{bmatrix}$\n",
        "\n",
        "$v = \\begin{bmatrix} 3 \\\\ 2 \\end{bmatrix}$\n",
        "\n",
        "$z = u ∘ v = \\begin{bmatrix} 1 \\\\ 2 \\end{bmatrix} ∘ \\begin{bmatrix} 3 \\\\ 2 \\end{bmatrix} = \\begin{bmatrix} 1 ⋅ 3 \\\\ 2 \\cdot 2 \\end{bmatrix} = \\begin{bmatrix} 3 \\\\ 4 \\end{bmatrix}$"
      ],
      "metadata": {
        "id": "Wl6NeIJ9MsAV"
      }
    },
    {
      "cell_type": "code",
      "source": [
        "# Producto de Hadamard:\n",
        "\n",
        "u = np.array([1,2])\n",
        "v = np.array([3,2])\n",
        "z = u*v\n",
        "z"
      ],
      "metadata": {
        "colab": {
          "base_uri": "https://localhost:8080/"
        },
        "id": "zD3Gca73MrYE",
        "outputId": "3d243110-610d-495d-df83-9611d564a842"
      },
      "execution_count": 21,
      "outputs": [
        {
          "output_type": "execute_result",
          "data": {
            "text/plain": [
              "array([3, 4])"
            ]
          },
          "metadata": {},
          "execution_count": 21
        }
      ]
    },
    {
      "cell_type": "markdown",
      "source": [
        "Producto **punto** de dos vectores:\n",
        "\n",
        "$u = \\begin{bmatrix} 1 \\\\ 2 \\end{bmatrix}$\n",
        "\n",
        "$v = \\begin{bmatrix} 3 \\\\ 1 \\end{bmatrix}$\n",
        "\n",
        "$z = u · v = u^{T}v = (1)(3) + (2)(1) = 5 $"
      ],
      "metadata": {
        "id": "Rph4Mt9rOiVV"
      }
    },
    {
      "cell_type": "code",
      "source": [
        "# Se utiliza la función np.dot(a,b)\n",
        "u = np.array([1,2])\n",
        "v = np.array([3,1])\n",
        "\n",
        "result = np.dot(u,v)\n",
        "result"
      ],
      "metadata": {
        "colab": {
          "base_uri": "https://localhost:8080/"
        },
        "id": "5pxxeZIaMiaN",
        "outputId": "3c2ae8a7-9381-42e3-9215-df66a158dab4"
      },
      "execution_count": 22,
      "outputs": [
        {
          "output_type": "execute_result",
          "data": {
            "text/plain": [
              "5"
            ]
          },
          "metadata": {},
          "execution_count": 22
        }
      ]
    },
    {
      "cell_type": "markdown",
      "source": [
        "Para añadir una constante a un arreglo de numpy:"
      ],
      "metadata": {
        "id": "un_0rj-0PvQd"
      }
    },
    {
      "cell_type": "code",
      "source": [
        "u = np.array([1,2,3,-1])\n",
        "\n",
        "z = u + 1 # Numpy añadirá la constante a cada elemento: 1+1,2+1,3+1,-1+1 se le denomina broadcasting\n",
        "\n",
        "z"
      ],
      "metadata": {
        "colab": {
          "base_uri": "https://localhost:8080/"
        },
        "id": "MySiCIHpPmjy",
        "outputId": "c6fb2d1f-b320-405e-9de5-ccc39f591104"
      },
      "execution_count": 23,
      "outputs": [
        {
          "output_type": "execute_result",
          "data": {
            "text/plain": [
              "array([2, 3, 4, 0])"
            ]
          },
          "metadata": {},
          "execution_count": 23
        }
      ]
    },
    {
      "cell_type": "markdown",
      "source": [
        "Las *funciones universales* operan en los ndarrays, se le puede aplicar una función a un arreglo de Numpy como en los ejemplos siguientes:\n"
      ],
      "metadata": {
        "id": "3Lb-wIigQKgk"
      }
    },
    {
      "cell_type": "code",
      "source": [
        "a = np.array([1,-1,1,-1])\n",
        "a.mean() # saca el promedio de todos los elementos dentro del arreglo"
      ],
      "metadata": {
        "colab": {
          "base_uri": "https://localhost:8080/"
        },
        "id": "3HH4XYG7QDU9",
        "outputId": "5d6e217c-0a22-49be-ecb5-f3a944d5e18e"
      },
      "execution_count": 26,
      "outputs": [
        {
          "output_type": "execute_result",
          "data": {
            "text/plain": [
              "0.0"
            ]
          },
          "metadata": {},
          "execution_count": 26
        }
      ]
    },
    {
      "cell_type": "code",
      "source": [
        "b = np.array([1,-2,3,4,5]) \n",
        "b.max() # saca el valor más alto dentro del arreglo"
      ],
      "metadata": {
        "colab": {
          "base_uri": "https://localhost:8080/"
        },
        "id": "r15VKnfLQqtQ",
        "outputId": "330d171b-0bdc-4661-c181-5d5018d6a5f3"
      },
      "execution_count": 27,
      "outputs": [
        {
          "output_type": "execute_result",
          "data": {
            "text/plain": [
              "5"
            ]
          },
          "metadata": {},
          "execution_count": 27
        }
      ]
    },
    {
      "cell_type": "markdown",
      "source": [
        "Se pueden crear funciones para mapear arreglos de numpy a nuevos arreglos de numpy:"
      ],
      "metadata": {
        "id": "1ms3-NgjRHtE"
      }
    },
    {
      "cell_type": "code",
      "source": [
        "from matplotlib import pyplot as plt\n",
        "x = np.array([0,np.pi/2,np.pi]) # creamos vector [0 π/2 π]\n",
        "y = np.sin(x) # aplicamos la función np.sin() que aplica el sin a cada elemento del arreglo\n",
        "\n",
        "plt.title('Tri(x)') \n",
        "plt.xlabel(\"x\") \n",
        "plt.ylabel(\"y\") \n",
        "plt.plot(x,y)\n",
        "plt.show()"
      ],
      "metadata": {
        "colab": {
          "base_uri": "https://localhost:8080/",
          "height": 295
        },
        "id": "DbhjUHGjRCw2",
        "outputId": "12971c62-3284-41f4-8c48-be5791a71a32"
      },
      "execution_count": 35,
      "outputs": [
        {
          "output_type": "display_data",
          "data": {
            "text/plain": [
              "<Figure size 432x288 with 1 Axes>"
            ],
            "image/png": "[encoded data removed]"
          },
          "metadata": {
            "needs_background": "light"
          }
        }
      ]
    },
    {
      "cell_type": "markdown",
      "source": [
        "Una función muy eficiente para graficar es la de linespace (análogamente a matlab linspace) se ocupa de la siguiente manera:"
      ],
      "metadata": {
        "id": "TA2JSiBFTO4v"
      }
    },
    {
      "cell_type": "code",
      "source": [
        "np.linspace(-2,2,num=5) # (val_inicial,val_final, no. de puntos)"
      ],
      "metadata": {
        "colab": {
          "base_uri": "https://localhost:8080/"
        },
        "id": "6w2AYrX7TFv1",
        "outputId": "fc6b2f53-dd69-41b0-cce1-2fddf3181dbc"
      },
      "execution_count": 32,
      "outputs": [
        {
          "output_type": "execute_result",
          "data": {
            "text/plain": [
              "array([-2., -1.,  0.,  1.,  2.])"
            ]
          },
          "metadata": {},
          "execution_count": 32
        }
      ]
    },
    {
      "cell_type": "code",
      "source": [
        "x = np.linspace(0, 2*np.pi,100)\n",
        "y = np.sin(x)\n",
        "\n",
        "plt.title('Sin(x)') \n",
        "plt.xlabel(\"x\") \n",
        "plt.ylabel(\"y\") \n",
        "plt.plot(x,y)\n",
        "plt.show()"
      ],
      "metadata": {
        "colab": {
          "base_uri": "https://localhost:8080/",
          "height": 295
        },
        "id": "13AH6RiRfbbk",
        "outputId": "cc22a876-2bf1-4fcb-df1b-1572f430c13e"
      },
      "execution_count": 36,
      "outputs": [
        {
          "output_type": "display_data",
          "data": {
            "text/plain": [
              "<Figure size 432x288 with 1 Axes>"
            ],
            "image/png": "[encoded data removed]"
          },
          "metadata": {
            "needs_background": "light"
          }
        }
      ]
    },
    {
      "cell_type": "markdown",
      "source": [
        "Nota: si se desea pasar de lista a arreglo se usa el comando **np.array**, pero si se desea desplegar el arreglo en forma de lista, esto se realiza mediante un ciclo for:"
      ],
      "metadata": {
        "id": "3P8uq4TxmfHH"
      }
    },
    {
      "cell_type": "code",
      "source": [
        "arreglo = np.linspace(-10,10,5)\n",
        "arreglo"
      ],
      "metadata": {
        "colab": {
          "base_uri": "https://localhost:8080/"
        },
        "id": "YZwlElvOgHmz",
        "outputId": "29045b88-40db-42f4-c50d-32a54732261c"
      },
      "execution_count": 43,
      "outputs": [
        {
          "output_type": "execute_result",
          "data": {
            "text/plain": [
              "array([-10.,  -5.,   0.,   5.,  10.])"
            ]
          },
          "metadata": {},
          "execution_count": 43
        }
      ]
    },
    {
      "cell_type": "code",
      "source": [
        "for lista in arreglo:\n",
        "  print(lista)"
      ],
      "metadata": {
        "colab": {
          "base_uri": "https://localhost:8080/"
        },
        "id": "jXk4Rdmym4Ha",
        "outputId": "62fe85a3-180c-4908-92a1-01fe92f86988"
      },
      "execution_count": 44,
      "outputs": [
        {
          "output_type": "stream",
          "name": "stdout",
          "text": [
            "-10.0\n",
            "-5.0\n",
            "0.0\n",
            "5.0\n",
            "10.0\n"
          ]
        }
      ]
    },
    {
      "cell_type": "markdown",
      "source": [
        "**Quiz Numpy 1D**"
      ],
      "metadata": {
        "id": "XavdWnUNvzK7"
      }
    },
    {
      "cell_type": "code",
      "source": [
        "import time \n",
        "import sys\n",
        "import numpy as np \n",
        "\n",
        "import matplotlib.pyplot as plt\n",
        "%matplotlib inline  \n",
        "\n",
        "def Plotvec2(a,b):\n",
        "    ax = plt.axes()# to generate the full window axes\n",
        "    ax.arrow(0, 0, *a, head_width=0.05, color ='r', head_length=0.1)#Add an arrow to the  a Axes with arrow head width 0.05, color red and arrow head length 0.1\n",
        "    plt.text(*(a + 0.1), 'a')\n",
        "    ax.arrow(0, 0, *b, head_width=0.05, color ='b', head_length=0.1)#Add an arrow to the  b Axes with arrow head width 0.05, color blue and arrow head length 0.1\n",
        "    plt.text(*(b + 0.1), 'b')\n",
        "    plt.ylim(-2, 2)#set the ylim to bottom(-2), top(2)\n",
        "    plt.xlim(-2, 2)#set the xlim to left(-2), right(2)"
      ],
      "metadata": {
        "id": "pgmoXeEznkXB"
      },
      "execution_count": 46,
      "outputs": []
    },
    {
      "cell_type": "markdown",
      "source": [
        "Convert the list <code>\\[-1, 1]</code> and <code>\\[1, 1]</code> to numpy arrays <code>a</code> and <code>b</code>. Then, plot the arrays as vectors using the fuction <code>Plotvec2</code> and find their dot product:"
      ],
      "metadata": {
        "id": "JBWcPpTSv-Fo"
      }
    },
    {
      "cell_type": "code",
      "source": [
        "a = np.array([-1, 1])\n",
        "b = np.array([1, 1])\n",
        "print('El producto punto entre a y b es:',np.dot(a,b))\n",
        "Plotvec2(a,b)"
      ],
      "metadata": {
        "colab": {
          "base_uri": "https://localhost:8080/",
          "height": 286
        },
        "id": "5OiJO6dQv6Ad",
        "outputId": "35597633-6d46-4705-cc9c-cb7fe01a0ce7"
      },
      "execution_count": 48,
      "outputs": [
        {
          "output_type": "stream",
          "name": "stdout",
          "text": [
            "El producto punto entre a y b: 0\n"
          ]
        },
        {
          "output_type": "display_data",
          "data": {
            "text/plain": [
              "<Figure size 432x288 with 1 Axes>"
            ],
            "image/png": "[encoded data removed]"
          },
          "metadata": {
            "needs_background": "light"
          }
        }
      ]
    },
    {
      "cell_type": "markdown",
      "source": [
        "Convert the list <code>\\[1, 0]</code> and <code>\\[0, 1]</code> to numpy arrays <code>a</code> and <code>b</code>. Then, plot the arrays as vectors using the function <code>Plotvec2</code> and find their dot product:"
      ],
      "metadata": {
        "id": "Ls0bfRxJwaRM"
      }
    },
    {
      "cell_type": "code",
      "source": [
        "a = np.array([1, 0])\n",
        "b = np.array([0, 1])\n",
        "print('El producto punto entre a y b es:', np.dot(a, b))\n",
        "Plotvec2(a, b)\n"
      ],
      "metadata": {
        "colab": {
          "base_uri": "https://localhost:8080/",
          "height": 286
        },
        "id": "z1g-lKG0wN9Y",
        "outputId": "5686bd58-2b58-4564-c683-64ca0d2df38d"
      },
      "execution_count": 49,
      "outputs": [
        {
          "output_type": "stream",
          "name": "stdout",
          "text": [
            "El producto punto entre a y b es: 0\n"
          ]
        },
        {
          "output_type": "display_data",
          "data": {
            "text/plain": [
              "<Figure size 432x288 with 1 Axes>"
            ],
            "image/png": "[encoded data removed]"
          },
          "metadata": {
            "needs_background": "light"
          }
        }
      ]
    },
    {
      "cell_type": "markdown",
      "source": [
        "Convert the list <code>\\[1, 1]</code> and <code>\\[0, 1]</code> to numpy arrays <code>a</code> and <code>b</code>. Then plot the arrays as vectors using the fuction <code>Plotvec2</code> and find their dot product:\n"
      ],
      "metadata": {
        "id": "Ju4kXl3HwsXZ"
      }
    },
    {
      "cell_type": "code",
      "source": [
        "a = np.array([1, 1])\n",
        "b = np.array([0, 1])\n",
        "print('El producto punto entre a y b es:', np.dot(a, b))\n",
        "Plotvec2(a, b)"
      ],
      "metadata": {
        "colab": {
          "base_uri": "https://localhost:8080/",
          "height": 286
        },
        "id": "OoL_t91lwr8I",
        "outputId": "74a5b74d-43a8-4fa9-9330-868d35a8d365"
      },
      "execution_count": 50,
      "outputs": [
        {
          "output_type": "stream",
          "name": "stdout",
          "text": [
            "El producto punto entre a y b es: 1\n"
          ]
        },
        {
          "output_type": "display_data",
          "data": {
            "text/plain": [
              "<Figure size 432x288 with 1 Axes>"
            ],
            "image/png": "[encoded data removed]"
          },
          "metadata": {
            "needs_background": "light"
          }
        }
      ]
    },
    {
      "cell_type": "markdown",
      "source": [
        "Why are the results of the dot product for <code>\\[-1, 1]</code> and <code>\\[1, 1]</code> and the dot product for <code>\\[1, 0]</code> and <code>\\[0, 1]</code> zero, but not zero for the dot product for <code>\\[1, 1]</code> and <code>\\[0, 1]</code>? <p><i>Hint: Study the corresponding figures, pay attention to the direction the arrows are pointing to.</i></p>"
      ],
      "metadata": {
        "id": "7iQg2J9pw2uL"
      }
    },
    {
      "cell_type": "markdown",
      "source": [
        "**La respuesta yace en la naturaleza del mismo producto punto, el producto punto se puede ver como la proyección del vector $a$ en $b$ y viceversa, debido a que es conmutable, es decir, es lo mismo hacer: $a \\cdot b$ que $b \\cdot a$ a final de cuentas la respuesta es un escalar. Entonces para los casos en el que los vectores no forman una proyección entre ambos, es decir, se forma un ángulo recto de $\\theta = 90°$, entonces por definición: $a · b = ab \\cos(\\theta)$, para cada vector en [-1 1]; [1 1] y [1 0]; [0 1], se puede percibir por medio de las gráficas de arriba que el ángulo que forman desde su vértice es exactamente 90° o $\\frac{\\pi}{2}$ en radianes, $\\therefore$ $\\cos(90°) = 0$ y la magnitud de ambas cantidades no importa pues todo es cero; se dice que se forma una base ortogonal o perpendicular debido a este efecto $a \\perp b$. En cambio en el último ejemplo, los vectores tienen un ángulo entre ellos $\\neq$ a 90°, entonces sí existe una proyección y por ende una cantidad escalar.**"
      ],
      "metadata": {
        "id": "hTxdn78Ww5Ok"
      }
    },
    {
      "cell_type": "code",
      "source": [
        "a1 = np.array([1, 2, 3])\n",
        "a2 = np.array([8, 9, 10])\n",
        " \n",
        "print('suma:',np.add(a1, a2))\n",
        "\n",
        "print('resta:',np.subtract(a1, a2))\n",
        " \n",
        "print('multiplicación Hadamard:',np.multiply(a1, a2))\n",
        "\n",
        "print('división:',np.divide(a1, a2))\n",
        "\n",
        "print('producto punto:',np.dot(a1, a2))\n"
      ],
      "metadata": {
        "colab": {
          "base_uri": "https://localhost:8080/"
        },
        "id": "Vvq7MkKlwnza",
        "outputId": "73101d21-f0d9-4b04-a17c-68ad3c4cd28f"
      },
      "execution_count": 52,
      "outputs": [
        {
          "output_type": "stream",
          "name": "stdout",
          "text": [
            "suma: [ 9 11 13]\n",
            "resta: [-7 -7 -7]\n",
            "multiplicación Hadamard: [ 8 18 30]\n",
            "división: [0.125      0.22222222 0.3       ]\n",
            "producto punto: 56\n"
          ]
        }
      ]
    },
    {
      "cell_type": "code",
      "source": [
        "arr1 = np.array([1, 2, 3, 4, 5])\n",
        "arr2 = np.array([6, 7, 8, 9, 10])\n",
        "\n",
        "print('nones de arr1:', arr1[0:6:2] )\n",
        "print('pares de arr2:', arr2[0:6:2])"
      ],
      "metadata": {
        "colab": {
          "base_uri": "https://localhost:8080/"
        },
        "id": "79e44hgh00F1",
        "outputId": "a29c7c20-59e0-434d-e1ab-99fd5adc286d"
      },
      "execution_count": 54,
      "outputs": [
        {
          "output_type": "stream",
          "name": "stdout",
          "text": [
            "nones de arr1: [1 3 5]\n",
            "pares de arr2: [ 6  8 10]\n"
          ]
        }
      ]
    },
    {
      "cell_type": "markdown",
      "source": [
        "**Arreglos de numpy en 2D**\n",
        "\n",
        "\n",
        "---\n",
        "\n",
        "Ahora consideremos una lista con otras listas:\n",
        "\n",
        "\n",
        "\n",
        "```\n",
        "a = [[11,12,13],[21,22,23],[31,32,33]]\n",
        "A = np.array(a)\n",
        "```\n",
        "\n",
        "A la hora de invocar a A = np.array(a) podemos ahora visualizar a la lista como una matriz, cada lista anidada dentro de la primera 'a' corresponde a un renglón de la matriz:\n",
        "\n",
        "$A = \\begin{bmatrix} 11&12&13\\\\ 21&22&23 \\\\ 31&32&33 \\end{bmatrix}$\n",
        "\n",
        "Al igual que arriba, podemos usar la función *ndim* para obtener el número de ejes o dimensiones referidos como: rango, este término no refiere al npumero de columndas linealmente independiente como una matriz, más bien te dice el número de listas anidadas dentro del arreglo:\n"
      ],
      "metadata": {
        "id": "HCKcQMQW5V2t"
      }
    },
    {
      "cell_type": "code",
      "source": [
        "a = [[11,12,13],[21,22,23],[31,32,33]]\n",
        "A = np.array(a)\n",
        "A.ndim #no tiene que ver con la dimensión de las listas dentro del arreglo sino de su forma."
      ],
      "metadata": {
        "colab": {
          "base_uri": "https://localhost:8080/"
        },
        "id": "Cx113Nuj1t91",
        "outputId": "51f704e8-5c58-41db-c24c-62a85b100b71"
      },
      "execution_count": 57,
      "outputs": [
        {
          "output_type": "execute_result",
          "data": {
            "text/plain": [
              "2"
            ]
          },
          "metadata": {},
          "execution_count": 57
        }
      ]
    },
    {
      "cell_type": "code",
      "source": [
        "A.shape # Te devuelve la representación rectangular nxm (filas, columnas)"
      ],
      "metadata": {
        "colab": {
          "base_uri": "https://localhost:8080/"
        },
        "id": "_tUmPYWX7fYF",
        "outputId": "5e4dd294-8562-4909-e07e-0205f8b98313"
      },
      "execution_count": 58,
      "outputs": [
        {
          "output_type": "execute_result",
          "data": {
            "text/plain": [
              "(3, 3)"
            ]
          },
          "metadata": {},
          "execution_count": 58
        }
      ]
    },
    {
      "cell_type": "code",
      "source": [
        "A.size # 3x3"
      ],
      "metadata": {
        "colab": {
          "base_uri": "https://localhost:8080/"
        },
        "id": "WCwBXGQ7Af54",
        "outputId": "cf3247ed-89a4-4651-8d33-9771c7ffb80d"
      },
      "execution_count": 59,
      "outputs": [
        {
          "output_type": "execute_result",
          "data": {
            "text/plain": [
              "9"
            ]
          },
          "metadata": {},
          "execution_count": 59
        }
      ]
    },
    {
      "cell_type": "markdown",
      "source": [
        "Para acceder a cada elemento de la matriz se usa la siguiente convención:\n",
        "\n",
        "$\\begin{bmatrix} A[0][0]&A[0][1]&A[0][2]\\\\ A[1][0]&A[1][1]&A[1][2] \\\\ A[2][0]&A[2][1]& A[2][2] \\end{bmatrix}$\n",
        "\n",
        "También se puede usar sólamente un par de corchetes para acceder a los elementos de la matriz:\n",
        "\n",
        "$\\begin{bmatrix} A[0,0]&A[0,1]&A[0,2]\\\\ A[1,0]&A[1,1]&A[1,2] \\\\ A[2,0]&A[2,1]& A[2,2] \\end{bmatrix}$\n"
      ],
      "metadata": {
        "id": "QY1KQJBXArUl"
      }
    },
    {
      "cell_type": "code",
      "source": [
        "A[1,1]"
      ],
      "metadata": {
        "colab": {
          "base_uri": "https://localhost:8080/"
        },
        "id": "xN-ShJZr_e2U",
        "outputId": "bb9c97e5-0344-40ec-e147-1ae565cea08b"
      },
      "execution_count": 60,
      "outputs": [
        {
          "output_type": "execute_result",
          "data": {
            "text/plain": [
              "22"
            ]
          },
          "metadata": {},
          "execution_count": 60
        }
      ]
    },
    {
      "cell_type": "code",
      "source": [
        "A[2][2]"
      ],
      "metadata": {
        "colab": {
          "base_uri": "https://localhost:8080/"
        },
        "id": "FA7mkKc_FflL",
        "outputId": "66cd01b5-f862-4d9d-9411-c723ab4eefe5"
      },
      "execution_count": 61,
      "outputs": [
        {
          "output_type": "execute_result",
          "data": {
            "text/plain": [
              "33"
            ]
          },
          "metadata": {},
          "execution_count": 61
        }
      ]
    },
    {
      "cell_type": "markdown",
      "source": [
        "Para hacer cortes o slicing se utiliza la nomenclatura: [0:2,2] extraes las primeras dos filas de la matriz y te quedas con la tercera columna o viceversa al ser [0,0:2], extraes la primera fila, y te quedas con las dos primeras columnas. \n",
        "\n",
        "Por la convención:\n",
        "\n",
        "$ \\begin{matrix} 0 \\\\ 1 \\\\ 2 \\end{matrix} \\begin{bmatrix} 11&12&13\\\\ 21&22&23 \\\\ 31&32&33 \\end{bmatrix} \\\\ \\begin{matrix}  & \\ \\ \\ 0 &  \\ \\ \\  1 & \\ \\ 2 \\end{matrix} $"
      ],
      "metadata": {
        "id": "BviaOyPrFlvM"
      }
    },
    {
      "cell_type": "code",
      "source": [
        "A[0,0:2]"
      ],
      "metadata": {
        "colab": {
          "base_uri": "https://localhost:8080/"
        },
        "id": "bAY95i4TFjeY",
        "outputId": "efc6c06e-5def-42aa-da3d-1c5c8cde264f"
      },
      "execution_count": 62,
      "outputs": [
        {
          "output_type": "execute_result",
          "data": {
            "text/plain": [
              "array([11, 12])"
            ]
          },
          "metadata": {},
          "execution_count": 62
        }
      ]
    },
    {
      "cell_type": "code",
      "source": [
        "A[0:2,2]"
      ],
      "metadata": {
        "colab": {
          "base_uri": "https://localhost:8080/"
        },
        "id": "obr9AV1dHZps",
        "outputId": "0810a15c-da53-4feb-d7ad-d6ac698eab93"
      },
      "execution_count": 63,
      "outputs": [
        {
          "output_type": "execute_result",
          "data": {
            "text/plain": [
              "array([13, 23])"
            ]
          },
          "metadata": {},
          "execution_count": 63
        }
      ]
    },
    {
      "cell_type": "markdown",
      "source": [
        "También se pueden añadir o sustraer matrices:\n",
        "\n",
        "$X = \\begin{bmatrix} 1 & 0 \\\\ 0 & 1 \\end{bmatrix}$\n",
        "\n",
        "$Y = \\begin{bmatrix} 2 & 1 \\\\ 1 & 2 \\end{bmatrix}$\n",
        "\n",
        "$Z = X + Y = \\begin{bmatrix} 1 + 2 & 0 + 1 \\\\ 0 + 1 & 1 + 2 \\end{bmatrix} =\\begin{bmatrix} 3 & 1 \\\\ 1 & 3 \\end{bmatrix}$"
      ],
      "metadata": {
        "id": "wes8moZXM8Dz"
      }
    },
    {
      "cell_type": "code",
      "source": [
        "X = np.array([[1,0],[0,1]])\n",
        "Y = np.array([[2,1],[1,2]])\n",
        "X + Y "
      ],
      "metadata": {
        "colab": {
          "base_uri": "https://localhost:8080/"
        },
        "id": "V-U9c1X3L-lQ",
        "outputId": "06630ba3-6320-4610-e79f-17379b657fef"
      },
      "execution_count": 65,
      "outputs": [
        {
          "output_type": "execute_result",
          "data": {
            "text/plain": [
              "array([[3, 1],\n",
              "       [1, 3]])"
            ]
          },
          "metadata": {},
          "execution_count": 65
        }
      ]
    },
    {
      "cell_type": "markdown",
      "source": [
        "Ahora una multiplicación por un factor de escalamiento:\n",
        "\n",
        "$2 Y$\n",
        "\n",
        "$2 ⋅ \\begin{bmatrix} 2 & 1 \\\\ 1 & 2 \\end{bmatrix} = \\begin{bmatrix} 2(2) & 2(1) \\\\ 2(1) & 2(2) \\end{bmatrix}= \\begin{bmatrix} 4 & 2 \\\\ 2 & 4 \\end{bmatrix}$"
      ],
      "metadata": {
        "id": "s5ty8S2SOZHN"
      }
    },
    {
      "cell_type": "code",
      "source": [
        "2*Y"
      ],
      "metadata": {
        "colab": {
          "base_uri": "https://localhost:8080/"
        },
        "id": "BfvOPJ62OYqT",
        "outputId": "af08f8b2-394d-4894-c7b6-163fc71feeed"
      },
      "execution_count": 66,
      "outputs": [
        {
          "output_type": "execute_result",
          "data": {
            "text/plain": [
              "array([[4, 2],\n",
              "       [2, 4]])"
            ]
          },
          "metadata": {},
          "execution_count": 66
        }
      ]
    },
    {
      "cell_type": "markdown",
      "source": [
        "La multiplicación matricial de Hadamard:\n",
        "\n",
        "$X ∘ Y = \\begin{bmatrix} 1 ⋅ 2 & 0 ⋅ 1 \\\\ 0 ⋅ 1 & 1 ⋅ 2 \\end{bmatrix} = \\begin{bmatrix}  2 & 0  \\\\ 0  &  2 \\end{bmatrix} $"
      ],
      "metadata": {
        "id": "U00yE-ObPLbD"
      }
    },
    {
      "cell_type": "code",
      "source": [
        "X * Y"
      ],
      "metadata": {
        "colab": {
          "base_uri": "https://localhost:8080/"
        },
        "id": "fz6HgW4UOAmN",
        "outputId": "024a7cb6-dec8-4116-9787-ea6fc751bad7"
      },
      "execution_count": 67,
      "outputs": [
        {
          "output_type": "execute_result",
          "data": {
            "text/plain": [
              "array([[2, 0],\n",
              "       [0, 2]])"
            ]
          },
          "metadata": {},
          "execution_count": 67
        }
      ]
    },
    {
      "cell_type": "markdown",
      "source": [
        "Y la multiplicación matricial:\n",
        "\n",
        "$X · Y = \\begin{bmatrix} (1)(2) + (0)(0) & (0)(2)+(1)(1) \\\\  (0)(2) + (1)(1) & (0)(1) + (1)(2) \\end{bmatrix} = \\begin{bmatrix}   2 & 1  \\\\  1 & 2 \\end{bmatrix} $"
      ],
      "metadata": {
        "id": "xrgP0rWocfkV"
      }
    },
    {
      "cell_type": "code",
      "source": [
        "np.dot(X,Y)"
      ],
      "metadata": {
        "colab": {
          "base_uri": "https://localhost:8080/"
        },
        "id": "n2X8aaj9cTZW",
        "outputId": "c647cdbc-ea62-4862-da71-fbd4ea28e932"
      },
      "execution_count": 68,
      "outputs": [
        {
          "output_type": "execute_result",
          "data": {
            "text/plain": [
              "array([[2, 1],\n",
              "       [1, 2]])"
            ]
          },
          "metadata": {},
          "execution_count": 68
        }
      ]
    },
    {
      "cell_type": "markdown",
      "source": [
        "**APIs**\n",
        "\n",
        "\n",
        "---\n",
        "\n",
        "Application Program Interfaces (API's) permite que dos piezas de software se comuniquen con sí mismas. \n",
        "\n",
        "REST API's permiten comunicarte através de internet, permitiendp tomar ventaja de recursos como el almacenamiento, acceso a datos, algoritmos d einteligencia artificial, etc. RE es de REpresentational, la S de State, y la T de Transfer. El usuario y su código se perciben como clientes, el servicio web se refiere como recurso. HTTP's son métodos para transmitir los datos, usualmente contiene un archivo JSON.\n",
        "\n",
        "Para la NBA_api bi se requiere un archivo JSON, lo único que se requiere es una ID, esta informació  está almacenada localmente en la API. Se importa el módulo de equipos via el método get_teams() regresa una lista de diccionarios, que contiene las mismas llaves, pero los valores dependen del equipo. \n",
        "\n",
        "\n",
        "\n",
        "```\n",
        "from nba_api.stats.static import teams\n",
        "nba_teams = teams.get_teams()\n",
        "nba_teams[:5]\n",
        "```\n",
        "La ID llave del diccionario tiene un identificador único para cada equipo como un valor. Para facilitar las cosas, se transforma el diccionario en una tabla y luego a un dataframe:\n",
        "\n",
        "\n",
        "\n",
        "```\n",
        "def one_dict(list_dict):\n",
        " keys = list_dict[0].keys()\n",
        " out_dict = {key:[] for key in keys}\n",
        " for dict_ in list_dict:\n",
        "  for key,value in dict_.items():\n",
        "   out_dict[key].append(value)\n",
        "  return out_dict\n",
        "  \n",
        "dict_nba_team = one_dict(nba_teams)\n",
        "\n",
        "df_teams = pd.DataFrame(dict_nba_team)\n",
        "df_teams.head()\n",
        "```\n",
        "Las llaves de API son un forma de acceder una API, es un conjunto único de carácteres que la API usa para identificar y autorizar. Usualmente el primer llamado a la API incluye la llave API, esto permite el acceso a la API.\n",
        "\n",
        "Un endpoint, es simplemente la localización del servicio, es usado para encontrar la API en el internet, como si fuera una dirección web.\n",
        "\n",
        "Uniform resource locator (URL) es la forma más popular de encontrar recursos en la web. Podemos dividir la URL en tres partes.\n",
        "\n",
        "\n",
        "\n",
        "1.   esquema este es este protocolo, para este laboratorio siempre será http://\n",
        "2.   La dirección de Internet o URL base se usará para encontrar la ubicación. Estos son algunos ejemplos: www.ibm.com y www.gitlab.com\n",
        "3.  ubicación de la ruta en el servidor web, por ejemplo: /images/IDSNlogo.png\n",
        "\n",
        "También puede escuchar el término Identificador uniforme de recursos (URI), las URL son en realidad un subconjunto de URI. Otro término popular es endpoint, esta es la URL de una operación proporcionada por un servidor web.\n",
        "\n",
        "En la línea de inicio tenemos el método GET, este es un método HTTP. También la ubicación del recurso /index.html y la versión HTTP. El encabezado de la solicitud pasa información adicional con una solicitud HTTP: \n",
        "\n",
        "**Transcripción de un archivo de audio usando Watson Text a Speech API**\n",
        "\n"
      ],
      "metadata": {
        "id": "8hAedc1GgOxz"
      }
    },
    {
      "cell_type": "code",
      "source": [
        "import requests\n",
        "import os \n",
        "from PIL import Image\n",
        "from IPython.display import IFrame"
      ],
      "metadata": {
        "id": "BOPJchQY3XZN"
      },
      "execution_count": 70,
      "outputs": []
    },
    {
      "cell_type": "code",
      "source": [
        "url='https://www.ibm.com/'\n",
        "r=requests.get(url)"
      ],
      "metadata": {
        "id": "OnriztT83Zkv"
      },
      "execution_count": 71,
      "outputs": []
    },
    {
      "cell_type": "code",
      "source": [
        "r.status_code"
      ],
      "metadata": {
        "colab": {
          "base_uri": "https://localhost:8080/"
        },
        "id": "jJNORuev3g35",
        "outputId": "fe7bf856-7301-4f62-ba60-7b24d372f19f"
      },
      "execution_count": 72,
      "outputs": [
        {
          "output_type": "execute_result",
          "data": {
            "text/plain": [
              "200"
            ]
          },
          "metadata": {},
          "execution_count": 72
        }
      ]
    },
    {
      "cell_type": "code",
      "source": [
        "print(r.request.headers)"
      ],
      "metadata": {
        "colab": {
          "base_uri": "https://localhost:8080/"
        },
        "id": "2CdPTyis3mqb",
        "outputId": "90a886ab-904e-4193-9563-3737f27b8860"
      },
      "execution_count": 73,
      "outputs": [
        {
          "output_type": "stream",
          "name": "stdout",
          "text": [
            "{'User-Agent': 'python-requests/2.23.0', 'Accept-Encoding': 'gzip, deflate', 'Accept': '*/*', 'Connection': 'keep-alive', 'Cookie': '_abck=4813D60BEA90B0D172868E469A7D89DD~-1~YAAQh0A2FxrqdoiDAQAAwRjeoAiO73xGcP4fzVdQDEXHSyj4RA2uF+kq04AgYtXzNSUt0LQWh+vY1aqq0ZYPhldomC/NlTesi8MVnxYF3YH5sK7XieUFVTQkUpETp04CGheELN1HEQKxV0WtfB7NeP7R+XfFY13M+H1WHUfTrAPbxrieg56g2PTHIdZ6+9ZG97KWNm4zrTy9C3lDIc7L3d94hq6aNZtRUXCN5VvVSTeCJtmbRqPofewcR50Mslv1Fpa79BDQXvpz7lLz/ScoZAtXil8nvGb1qqoqR4NbDR3N7+blR7ubmjU5j3IZJUV9mdbUtZjyam0EQJy0tKFcn/jknZy0vRf6oFg0nUeXTyZzWncYjYY=~-1~-1~-1; bm_sz=E6D3899A90A207EFA7C43A6296D61CDD~YAAQh0A2FxvqdoiDAQAAwRjeoBEmtto7boxjK/OLJ2jQMhdaN4KjdfaLdPOAjypvlHnks1XRhVG3o2uALLY80gH94Y0ecxVfW5QKZ9OEeM9MpV9veEKofJR6X6NwKVMgguZC9zrF4nHJWSKqoSgIRSQ8xrfMXPcvzrZwEfHT87vHIdNa6C9PM6TjEvr7EjCgmFXdadGw7DPZY+0sfyc8A3mfkh12hMXstmN8bQ8Lnox/P8hywH/NAIDmrVD9uY7a8ePq62D8JSFRS+HfvEbeGeiHBOVOhKloTDyYWdYlV+I=~3748406~4604985'}\n"
          ]
        }
      ]
    },
    {
      "cell_type": "code",
      "source": [
        "print(\"request body:\", r.request.body)"
      ],
      "metadata": {
        "colab": {
          "base_uri": "https://localhost:8080/"
        },
        "id": "EERI7kUG3tcG",
        "outputId": "29bed56e-f222-49c2-c0ea-56cc3bb76e1d"
      },
      "execution_count": 74,
      "outputs": [
        {
          "output_type": "stream",
          "name": "stdout",
          "text": [
            "request body: None\n"
          ]
        }
      ]
    },
    {
      "cell_type": "code",
      "source": [
        "header=r.headers\n",
        "print(r.headers)"
      ],
      "metadata": {
        "colab": {
          "base_uri": "https://localhost:8080/"
        },
        "id": "WuwYkoYn31Op",
        "outputId": "4b623e18-7544-43c3-bf34-8304ebc14877"
      },
      "execution_count": 75,
      "outputs": [
        {
          "output_type": "stream",
          "name": "stdout",
          "text": [
            "{'Server': 'Apache', 'Last-Modified': 'Mon, 03 Oct 2022 12:34:16 GMT', 'ETag': '\"17fce-5ea208fcd503e-gzip\"', 'Accept-Ranges': 'bytes', 'Content-Encoding': 'gzip', 'Content-Type': 'text/html', 'Cache-Control': 'max-age=3600', 'Expires': 'Tue, 04 Oct 2022 03:40:53 GMT', 'X-Akamai-Transformed': '9 21227 0 pmb=mTOE,2', 'Date': 'Tue, 04 Oct 2022 02:40:53 GMT', 'Content-Length': '21404', 'Connection': 'keep-alive', 'Vary': 'Accept-Encoding', 'x-content-type-options': 'nosniff', 'X-XSS-Protection': '1; mode=block', 'Content-Security-Policy': 'upgrade-insecure-requests', 'Strict-Transport-Security': 'max-age=31536000'}\n"
          ]
        }
      ]
    },
    {
      "cell_type": "code",
      "source": [
        "header['date']"
      ],
      "metadata": {
        "colab": {
          "base_uri": "https://localhost:8080/",
          "height": 36
        },
        "id": "pVfGsrDT34x7",
        "outputId": "c4be3776-ff85-4ed6-ae58-15da0eb104b1"
      },
      "execution_count": 76,
      "outputs": [
        {
          "output_type": "execute_result",
          "data": {
            "text/plain": [
              "'Tue, 04 Oct 2022 02:40:53 GMT'"
            ],
            "application/vnd.google.colaboratory.intrinsic+json": {
              "type": "string"
            }
          },
          "metadata": {},
          "execution_count": 76
        }
      ]
    },
    {
      "cell_type": "code",
      "source": [
        "header['Content-Type']"
      ],
      "metadata": {
        "colab": {
          "base_uri": "https://localhost:8080/",
          "height": 36
        },
        "id": "wSBUmY_B4AN8",
        "outputId": "18b748c1-5b13-497c-a4c9-588dabe6bbe5"
      },
      "execution_count": 77,
      "outputs": [
        {
          "output_type": "execute_result",
          "data": {
            "text/plain": [
              "'text/html'"
            ],
            "application/vnd.google.colaboratory.intrinsic+json": {
              "type": "string"
            }
          },
          "metadata": {},
          "execution_count": 77
        }
      ]
    },
    {
      "cell_type": "code",
      "source": [
        "r.encoding"
      ],
      "metadata": {
        "colab": {
          "base_uri": "https://localhost:8080/",
          "height": 36
        },
        "id": "jd8Vk-4J4EwV",
        "outputId": "bf5b1c01-c37f-4cad-c807-a179c9401662"
      },
      "execution_count": 80,
      "outputs": [
        {
          "output_type": "execute_result",
          "data": {
            "text/plain": [
              "'ISO-8859-1'"
            ],
            "application/vnd.google.colaboratory.intrinsic+json": {
              "type": "string"
            }
          },
          "metadata": {},
          "execution_count": 80
        }
      ]
    },
    {
      "cell_type": "code",
      "source": [
        "r.text[0:100]"
      ],
      "metadata": {
        "colab": {
          "base_uri": "https://localhost:8080/",
          "height": 36
        },
        "id": "t4h2ni7N4Ikj",
        "outputId": "93cf42b4-81fa-4ab8-953f-5da601a15c90"
      },
      "execution_count": 79,
      "outputs": [
        {
          "output_type": "execute_result",
          "data": {
            "text/plain": [
              "'<!DOCTYPE html><html lang=\"en-US\"><head><meta name=\"viewport\" content=\"width=device-width\"/><meta ch'"
            ],
            "application/vnd.google.colaboratory.intrinsic+json": {
              "type": "string"
            }
          },
          "metadata": {},
          "execution_count": 79
        }
      ]
    },
    {
      "cell_type": "code",
      "source": [
        "url='https://cf-courses-data.s3.us.cloud-object-storage.appdomain.cloud/IBMDeveloperSkillsNetwork-PY0101EN-SkillsNetwork/IDSNlogo.png'"
      ],
      "metadata": {
        "id": "1lx23Fzm4NFj"
      },
      "execution_count": 81,
      "outputs": []
    },
    {
      "cell_type": "code",
      "source": [
        "r=requests.get(url)"
      ],
      "metadata": {
        "id": "UlFf-l2i4ePz"
      },
      "execution_count": 82,
      "outputs": []
    },
    {
      "cell_type": "code",
      "source": [
        "print(r.headers)"
      ],
      "metadata": {
        "colab": {
          "base_uri": "https://localhost:8080/"
        },
        "id": "49IyfGBh4fjs",
        "outputId": "2d2d5506-1a0d-4fb8-9cbb-ab8c9ca7159a"
      },
      "execution_count": 83,
      "outputs": [
        {
          "output_type": "stream",
          "name": "stdout",
          "text": [
            "{'Date': 'Tue, 04 Oct 2022 02:45:10 GMT', 'X-Clv-Request-Id': '25dfff0b-6eab-444d-b6b1-0dc57549052e', 'Server': 'Cleversafe', 'X-Clv-S3-Version': '2.5', 'Accept-Ranges': 'bytes', 'x-amz-request-id': '25dfff0b-6eab-444d-b6b1-0dc57549052e', 'Cache-Control': 'max-age=0,public', 'ETag': '\"a831e767d02efd21b904ec485ac0c769\"', 'Content-Type': 'image/png', 'Last-Modified': 'Wed, 14 Sep 2022 05:47:46 GMT', 'Content-Length': '21590'}\n"
          ]
        }
      ]
    },
    {
      "cell_type": "code",
      "source": [
        "r.headers['Content-Type']"
      ],
      "metadata": {
        "colab": {
          "base_uri": "https://localhost:8080/",
          "height": 36
        },
        "id": "CvOPUtEt4hdk",
        "outputId": "054443b5-e978-40e0-f402-ad110b607e10"
      },
      "execution_count": 84,
      "outputs": [
        {
          "output_type": "execute_result",
          "data": {
            "text/plain": [
              "'image/png'"
            ],
            "application/vnd.google.colaboratory.intrinsic+json": {
              "type": "string"
            }
          },
          "metadata": {},
          "execution_count": 84
        }
      ]
    },
    {
      "cell_type": "code",
      "source": [
        "path=os.path.join(os.getcwd(),'image.png')\n",
        "path"
      ],
      "metadata": {
        "colab": {
          "base_uri": "https://localhost:8080/",
          "height": 36
        },
        "id": "xFEK--QS4j0D",
        "outputId": "32be6a58-484f-417c-9e7f-cc686b95b737"
      },
      "execution_count": 85,
      "outputs": [
        {
          "output_type": "execute_result",
          "data": {
            "text/plain": [
              "'/content/image.png'"
            ],
            "application/vnd.google.colaboratory.intrinsic+json": {
              "type": "string"
            }
          },
          "metadata": {},
          "execution_count": 85
        }
      ]
    },
    {
      "cell_type": "code",
      "source": [
        "with open(path,'wb') as f:\n",
        "    f.write(r.content)"
      ],
      "metadata": {
        "id": "dGWxfokR4rBo"
      },
      "execution_count": 86,
      "outputs": []
    },
    {
      "cell_type": "code",
      "source": [
        "Image.open(path)"
      ],
      "metadata": {
        "colab": {
          "base_uri": "https://localhost:8080/",
          "height": 817
        },
        "id": "5lcVr5NK44AN",
        "outputId": "84d7483f-4309-47fa-e676-e5038b2bc06b"
      },
      "execution_count": 88,
      "outputs": [
        {
          "output_type": "execute_result",
          "data": {
            "text/plain": [
              "<PIL.PngImagePlugin.PngImageFile image mode=P size=800x800 at 0x7FDB7A135E90>"
            ],
            "image/png": "[encoded data removed]"
          },
          "metadata": {},
          "execution_count": 88
        }
      ]
    },
    {
      "cell_type": "markdown",
      "source": [
        "# Get Methods\n",
        "* get_cell()\n",
        "* get_city()\n",
        "* get_dob()\n",
        "* get_email()\n",
        "* get_first_name()\n",
        "* get_full_name()\n",
        "* get_gender()\n",
        "* get_id()\n",
        "* get_id_number()\n",
        "* get_id_type()\n",
        "* get_info()\n",
        "* get_last_name()\n",
        "* get_login_md5()\n",
        "* get_login_salt()\n",
        "* get_login_sha1()\n",
        "* get_login_sha256()\n",
        "* get_nat()\n",
        "* get_password()\n",
        "* get_phone()\n",
        "* get_picture()\n",
        "* get_postcode()\n",
        "* get_registered()\n",
        "* get_state()\n",
        "* get_street()\n",
        "* get_username()\n",
        "* get_zipcode()"
      ],
      "metadata": {
        "id": "RV6RYw1_5WRf"
      }
    }
  ]
}